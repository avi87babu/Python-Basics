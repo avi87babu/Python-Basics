{
  "nbformat": 4,
  "nbformat_minor": 0,
  "metadata": {
    "colab": {
      "provenance": [],
      "authorship_tag": "ABX9TyPItRib3HWsJwg/AGC+xVVz",
      "include_colab_link": true
    },
    "kernelspec": {
      "name": "python3",
      "display_name": "Python 3"
    },
    "language_info": {
      "name": "python"
    }
  },
  "cells": [
    {
      "cell_type": "markdown",
      "metadata": {
        "id": "view-in-github",
        "colab_type": "text"
      },
      "source": [
        "<a href=\"https://colab.research.google.com/github/avi87babu/Python-Basics/blob/main/Data_Structures.ipynb\" target=\"_parent\"><img src=\"https://colab.research.google.com/assets/colab-badge.svg\" alt=\"Open In Colab\"/></a>"
      ]
    },
    {
      "cell_type": "markdown",
      "source": [
        "# ***Data Types and Structures***\n",
        "\n",
        "---\n",
        "\n"
      ],
      "metadata": {
        "id": "EBLBqFA3U5t7"
      }
    },
    {
      "cell_type": "markdown",
      "source": [
        "**1. What are data structures, and why are they important?**\n",
        "  - Data Structures is way of organizing and storing data so than it can be accessed and manipulated effeciently.\n",
        "\n",
        "**2.  Explain the difference between mutable and immutable data types with examples?**\n",
        "*   Mutable data type after creating can be change or modify data is it mutable data type list=[1,2,3,4,\"rahul\", 75j].\n",
        "*   Immutable data type after creationg can't be change or modify is it immutable data type a=(1,2,3,4,\"rahul\", 75j).\n",
        "\n",
        "**3. What are the main differences between lists and tuples in Python?**\n",
        "*   List can store heterogenous is an ordered collection of elements that can be of any data type, define by squre brackets \"[]\" List is mutable data type.\n",
        "*   Tuples also can store heterogenous data is define by parathinsis \"()\" Tuples are immutable data type.\n",
        "\n",
        "**4. Describe how dictionaries store data?**\n",
        "*     Dictionaries which stores in the form of key value pair define by curly brackets \"{}\" for Exp. my_dict={}.\n",
        "\n",
        "**5. Why might you use a set instead of a list in Python?**\n",
        "*   Because Sets are unordered collections of unique elements and no concept of indexing as Sets are unordered to get unique elements and it is mutable, but list is a indexing oredered collections of elements.\n",
        "\n",
        "**6. What is a string in Python, and how is it different from a list?**\n",
        "*   String is a sequence of character represent and manipulate textual data and list is ordered collection of items list is like a shopping bag which can store everything.\n",
        "\n",
        "**7. How do tuples ensure data integrity in Python**\n",
        "* Tuples are immutable to ensure that their contents remain constant throughout their lifecycle, guaranteeing data integrity and reliability. This immutability allows tuples to be used as keys in dictionaries and elements in sets, as they can be hashed.\n",
        "\n",
        "**8. What is a hash table, and how does it relate to dictionaries in Python?**\n",
        "* A hash table is a data structure that stores key-value pairs and Python dictionaries are built using hash tables\n",
        "\n",
        "**9. Can lists contain different data types in Python?**\n",
        "* A list contains mix data types in python lik numbers, strings, float, bool,etc. List can store heterogenous is an ordered collection elements.\n",
        "\n",
        "**10. Explain why strings are immutable in Python?**\n",
        "* Python strings are immutable which menans cannot change after created.\n",
        "\n",
        "    a='Avinash'\n",
        "\n",
        "    a[0]='b'\n",
        "\n",
        "    Output TypeError: 'str' object does not support item assignment.\n",
        "\n",
        "**11. What advantages do dictionaries offer over lists for certain tasks?**\n",
        "* A list when define as a [1,2,3,4] in memories block by defalut indexing of 0 to 3 access value by index number while dictionaries reffered to key names access value by key name.\n",
        "\n",
        "**12. Describe a scenario where using a tuple would be preferable over a list?**\n",
        "* Tuples are generally faster and more memory-efficient than lists, making them better for fixed elements like: ID,Adhaar Card etc.\n",
        "\n",
        "**13. How do sets handle duplicate values in Python?**\n",
        "* Sets are unordered and unique collection of elements and dosen't allow any duplicat elements, indexing will not work.\n",
        "\n",
        "**14. How does the “in” keyword work differently for lists and dictionaries?**\n",
        "* The in keyword is also used in for statements and list comprehensions and also tests for value equality.\n",
        "\n",
        "  The in keyword is also used in for test for the presence of values or key-value pairs.\n",
        "\n",
        "**15. Can you modify the elements of a tuple? Explain why or why not?**\n",
        "* No, you cannot modify the elements of a tuple in Python because tuples are \"immutable,\" meaning once created, their elements cannot be changed, added, or removed; attempting to do so will result in an error.\n",
        "\n",
        "**16. What is a nested dictionary, and give an example of its use case?**\n",
        "* Nesting Dictionary means putting a dictionary inside another dictionary.\n",
        "\n",
        "  d={a1:'avinash',a2:'Kumar',a3:{b1:25,b2:'address'}}\n",
        "\n",
        "**17. Describe the time complexity of accessing elements in a dictionary**\n",
        "\n",
        "**18. In what situations are lists preferred over dictionaries?**\n",
        "\n",
        "**19. Why are dictionaries considered unordered, and how does that affect data retrieval?**\n",
        "* Dictionaries are unordered, but from python 3.7 version, dectionaries retain the order of insertion. This means the if you iterate over a dictionaries, the item will be returned in the order they were added.\n",
        "\n",
        "**20. Explain the difference between a list and a dictionary in terms of data retrieval?**\n",
        "* A list is an ordered collection of items, whereas a dictionary is an unordered data collection in a key: value pair. Elements from the list can be accessed using the index, while the elements of the dictionary can be accessed using keys.\n"
      ],
      "metadata": {
        "id": "_rFNlKLFVNU1"
      }
    },
    {
      "cell_type": "markdown",
      "source": [
        "# ***Practical Questions***\n",
        "\n",
        "---\n",
        "\n"
      ],
      "metadata": {
        "id": "-EaI3XsfWsbl"
      }
    },
    {
      "cell_type": "markdown",
      "source": [
        "**1. Write a code to create a string with your name and print it?**\n"
      ],
      "metadata": {
        "id": "1RHEI824L-_p"
      }
    },
    {
      "cell_type": "code",
      "execution_count": 4,
      "metadata": {
        "id": "cYLqe2KHU36u",
        "colab": {
          "base_uri": "https://localhost:8080/",
          "height": 36
        },
        "outputId": "6ddf8cbf-7e9e-4a46-8b53-51804062ed31"
      },
      "outputs": [
        {
          "output_type": "execute_result",
          "data": {
            "text/plain": [
              "'Avinash Babu'"
            ],
            "application/vnd.google.colaboratory.intrinsic+json": {
              "type": "string"
            }
          },
          "metadata": {},
          "execution_count": 4
        }
      ],
      "source": [
        "name='Avinash Babu'\n",
        "name"
      ]
    },
    {
      "cell_type": "markdown",
      "source": [
        "**2. Write a code to find the length of the string \"Hello World\"?**"
      ],
      "metadata": {
        "id": "UH87yzC_NPE-"
      }
    },
    {
      "cell_type": "code",
      "source": [
        "a='Hello World'\n",
        "len(a)"
      ],
      "metadata": {
        "colab": {
          "base_uri": "https://localhost:8080/"
        },
        "id": "5-4BjimaMNOG",
        "outputId": "37f3342c-5854-48f4-8dce-1a00f56701c6"
      },
      "execution_count": 5,
      "outputs": [
        {
          "output_type": "execute_result",
          "data": {
            "text/plain": [
              "11"
            ]
          },
          "metadata": {},
          "execution_count": 5
        }
      ]
    },
    {
      "cell_type": "markdown",
      "source": [
        "**3. Write a code to slice the first 3 characters from the string \"Python Programming\"?**\n"
      ],
      "metadata": {
        "id": "TxGm1ezrNf3G"
      }
    },
    {
      "cell_type": "code",
      "source": [
        "a='Python Programming'\n",
        "a[:3]"
      ],
      "metadata": {
        "colab": {
          "base_uri": "https://localhost:8080/",
          "height": 36
        },
        "id": "Emn_W4gWNZR_",
        "outputId": "c91c7c45-1fd0-4917-ab63-b8b48aa62f96"
      },
      "execution_count": 7,
      "outputs": [
        {
          "output_type": "execute_result",
          "data": {
            "text/plain": [
              "'Pyt'"
            ],
            "application/vnd.google.colaboratory.intrinsic+json": {
              "type": "string"
            }
          },
          "metadata": {},
          "execution_count": 7
        }
      ]
    },
    {
      "cell_type": "markdown",
      "source": [
        "**4. Write a code to convert the string \"hello\" to uppercase?**"
      ],
      "metadata": {
        "id": "RWsWyYd2PDmZ"
      }
    },
    {
      "cell_type": "code",
      "source": [
        "a='hello'\n",
        "a.upper()"
      ],
      "metadata": {
        "colab": {
          "base_uri": "https://localhost:8080/",
          "height": 36
        },
        "id": "T6vkL0T-O3v1",
        "outputId": "14f00cf1-a28b-41a5-9a57-486cf625c535"
      },
      "execution_count": 9,
      "outputs": [
        {
          "output_type": "execute_result",
          "data": {
            "text/plain": [
              "'HELLO'"
            ],
            "application/vnd.google.colaboratory.intrinsic+json": {
              "type": "string"
            }
          },
          "metadata": {},
          "execution_count": 9
        }
      ]
    },
    {
      "cell_type": "markdown",
      "source": [
        "**5. Write a code to replace the word \"apple\" with \"orange\" in the string \"I like apple\"?**"
      ],
      "metadata": {
        "id": "ctrC8iRYPjAE"
      }
    },
    {
      "cell_type": "code",
      "source": [
        "a='I like apple'\n",
        "a.replace(\"apple\",\"orange\")"
      ],
      "metadata": {
        "colab": {
          "base_uri": "https://localhost:8080/",
          "height": 36
        },
        "id": "vT94X4KTPMap",
        "outputId": "d2926ea3-d192-4271-aa6f-a25c5e2ba47a"
      },
      "execution_count": 10,
      "outputs": [
        {
          "output_type": "execute_result",
          "data": {
            "text/plain": [
              "'I like orange'"
            ],
            "application/vnd.google.colaboratory.intrinsic+json": {
              "type": "string"
            }
          },
          "metadata": {},
          "execution_count": 10
        }
      ]
    },
    {
      "cell_type": "markdown",
      "source": [
        "**6. Write a code to create a list with numbers 1 to 5 and print it?**"
      ],
      "metadata": {
        "id": "AL__nVfOP_T8"
      }
    },
    {
      "cell_type": "code",
      "source": [
        "my_list=[1,2,3,4,5]\n",
        "my_list"
      ],
      "metadata": {
        "colab": {
          "base_uri": "https://localhost:8080/"
        },
        "id": "ShLkPKTlP5Ue",
        "outputId": "50a8b660-aec7-4665-9437-0dd4cf3d8510"
      },
      "execution_count": 11,
      "outputs": [
        {
          "output_type": "execute_result",
          "data": {
            "text/plain": [
              "[1, 2, 3, 4, 5]"
            ]
          },
          "metadata": {},
          "execution_count": 11
        }
      ]
    },
    {
      "cell_type": "markdown",
      "source": [
        "**7. Write a code to append the number 10 to the list [1, 2, 3, 4]?**"
      ],
      "metadata": {
        "id": "SELUqGcMQl80"
      }
    },
    {
      "cell_type": "code",
      "source": [
        "my_list=[1,2,3,4]\n",
        "my_list.append(10)\n",
        "my_list"
      ],
      "metadata": {
        "colab": {
          "base_uri": "https://localhost:8080/"
        },
        "id": "rW3vY4rbQX6F",
        "outputId": "e7d2705e-79ef-4f18-8d88-49f91836febb"
      },
      "execution_count": 15,
      "outputs": [
        {
          "output_type": "execute_result",
          "data": {
            "text/plain": [
              "[1, 2, 3, 4, 10]"
            ]
          },
          "metadata": {},
          "execution_count": 15
        }
      ]
    },
    {
      "cell_type": "markdown",
      "source": [
        "**8. Write a code to remove the number 3 from the list [1, 2, 3, 4, 5]?**"
      ],
      "metadata": {
        "id": "euacP1KpRUsG"
      }
    },
    {
      "cell_type": "code",
      "source": [
        "my_list=[1,2,3,4,5]\n",
        "my_list.remove(3)\n",
        "my_list\n"
      ],
      "metadata": {
        "colab": {
          "base_uri": "https://localhost:8080/"
        },
        "id": "n14KXp2gQ0TK",
        "outputId": "e710ada9-97bb-41ca-aabe-6472547bcc12"
      },
      "execution_count": 17,
      "outputs": [
        {
          "output_type": "execute_result",
          "data": {
            "text/plain": [
              "[1, 2, 4, 5]"
            ]
          },
          "metadata": {},
          "execution_count": 17
        }
      ]
    },
    {
      "cell_type": "markdown",
      "source": [
        "**9. Write a code to access the second element in the list ['a', 'b', 'c', 'd']?**"
      ],
      "metadata": {
        "id": "W8JdywpFSBUO"
      }
    },
    {
      "cell_type": "code",
      "source": [
        "my_list=['a','b','c','d']\n",
        "my_list[1]"
      ],
      "metadata": {
        "colab": {
          "base_uri": "https://localhost:8080/",
          "height": 36
        },
        "id": "DCwoEzYLR3w5",
        "outputId": "747e0508-a7f1-4486-ca83-6648db2ef6bf"
      },
      "execution_count": 18,
      "outputs": [
        {
          "output_type": "execute_result",
          "data": {
            "text/plain": [
              "'b'"
            ],
            "application/vnd.google.colaboratory.intrinsic+json": {
              "type": "string"
            }
          },
          "metadata": {},
          "execution_count": 18
        }
      ]
    },
    {
      "cell_type": "markdown",
      "source": [
        "10. Write a code to reverse the list [10, 20, 30, 40, 50]?"
      ],
      "metadata": {
        "id": "_lz8HP2WSemJ"
      }
    },
    {
      "cell_type": "code",
      "source": [
        "my_list=[10,20,30,40,50]\n",
        "my_list.reverse()\n",
        "my_list"
      ],
      "metadata": {
        "colab": {
          "base_uri": "https://localhost:8080/"
        },
        "id": "qzn8973sSXml",
        "outputId": "e94f369d-6e37-4b84-d1aa-9ed8584658c5"
      },
      "execution_count": 23,
      "outputs": [
        {
          "output_type": "execute_result",
          "data": {
            "text/plain": [
              "[50, 40, 30, 20, 10]"
            ]
          },
          "metadata": {},
          "execution_count": 23
        }
      ]
    },
    {
      "cell_type": "markdown",
      "source": [
        "\n",
        "**11. Write a code to create a tuple with the elements 10, 20, 30 and print it.**"
      ],
      "metadata": {
        "id": "2WZ5to6eVT-I"
      }
    },
    {
      "cell_type": "code",
      "source": [
        "tp=(10,20,30)\n",
        "tp"
      ],
      "metadata": {
        "colab": {
          "base_uri": "https://localhost:8080/"
        },
        "id": "2xg_siqcSuP5",
        "outputId": "e7250c66-86dd-4e6b-c51e-faad51c95bcb"
      },
      "execution_count": 24,
      "outputs": [
        {
          "output_type": "execute_result",
          "data": {
            "text/plain": [
              "(10, 20, 30)"
            ]
          },
          "metadata": {},
          "execution_count": 24
        }
      ]
    },
    {
      "cell_type": "markdown",
      "source": [
        "**12. Write a code to access the first element of the tuple ('apple', 'banana', 'cherry').**"
      ],
      "metadata": {
        "id": "6GM_LQkvVpXl"
      }
    },
    {
      "cell_type": "code",
      "source": [
        "tp=('apple','banana','cherry')\n",
        "tp[0]"
      ],
      "metadata": {
        "colab": {
          "base_uri": "https://localhost:8080/",
          "height": 36
        },
        "id": "8ezDX5HcVes1",
        "outputId": "556728aa-361c-40d3-b2a4-20ba79434565"
      },
      "execution_count": 25,
      "outputs": [
        {
          "output_type": "execute_result",
          "data": {
            "text/plain": [
              "'apple'"
            ],
            "application/vnd.google.colaboratory.intrinsic+json": {
              "type": "string"
            }
          },
          "metadata": {},
          "execution_count": 25
        }
      ]
    },
    {
      "cell_type": "markdown",
      "source": [
        "**13. Write a code to count how many times the number 2 appears in the tuple (1, 2, 3, 2, 4, 2).**"
      ],
      "metadata": {
        "id": "HnVXPbybWWTC"
      }
    },
    {
      "cell_type": "code",
      "source": [
        "tp=(1,2,3,2,4,2)\n",
        "tp.count(2)"
      ],
      "metadata": {
        "colab": {
          "base_uri": "https://localhost:8080/"
        },
        "id": "Epidah39WOpe",
        "outputId": "4c9d973d-0a6f-4629-b8d9-fe3fa6907e39"
      },
      "execution_count": 26,
      "outputs": [
        {
          "output_type": "execute_result",
          "data": {
            "text/plain": [
              "3"
            ]
          },
          "metadata": {},
          "execution_count": 26
        }
      ]
    },
    {
      "cell_type": "markdown",
      "source": [
        "**14. Write a code to find the index of the element \"cat\" in the tuple ('dog', 'cat', 'rabbit').**"
      ],
      "metadata": {
        "id": "Nc_PF82wW8V5"
      }
    },
    {
      "cell_type": "code",
      "source": [
        "tp=('dog','cat','rabbit')\n",
        "tp.index('cat')"
      ],
      "metadata": {
        "colab": {
          "base_uri": "https://localhost:8080/"
        },
        "id": "iFKDTBXzWyXZ",
        "outputId": "568f7910-4572-4550-8ddd-6655f7e01082"
      },
      "execution_count": 27,
      "outputs": [
        {
          "output_type": "execute_result",
          "data": {
            "text/plain": [
              "1"
            ]
          },
          "metadata": {},
          "execution_count": 27
        }
      ]
    },
    {
      "cell_type": "markdown",
      "source": [
        "**15. Write a code to check if the element \"banana\" is in the tuple ('apple', 'orange', 'banana').**"
      ],
      "metadata": {
        "id": "YRw4evP1XZdD"
      }
    },
    {
      "cell_type": "code",
      "source": [
        "tp=('apple','orange','banana')\n",
        "'banana'in tp"
      ],
      "metadata": {
        "colab": {
          "base_uri": "https://localhost:8080/"
        },
        "id": "fVATTwdcXLp2",
        "outputId": "e9715927-ce9b-4855-a748-7b4f0b5dab92"
      },
      "execution_count": 28,
      "outputs": [
        {
          "output_type": "execute_result",
          "data": {
            "text/plain": [
              "True"
            ]
          },
          "metadata": {},
          "execution_count": 28
        }
      ]
    },
    {
      "cell_type": "markdown",
      "source": [
        "**16. Write a code to create a set with the elements 1, 2, 3, 4, 5 and print it.**"
      ],
      "metadata": {
        "id": "4L9KzNmmYecE"
      }
    },
    {
      "cell_type": "code",
      "source": [
        "st={1,2,3,4,5}\n",
        "st"
      ],
      "metadata": {
        "colab": {
          "base_uri": "https://localhost:8080/"
        },
        "id": "hv8j2p6nYS-y",
        "outputId": "ea45d353-5f82-49b4-ce6f-37f1dd1985ad"
      },
      "execution_count": 29,
      "outputs": [
        {
          "output_type": "execute_result",
          "data": {
            "text/plain": [
              "{1, 2, 3, 4, 5}"
            ]
          },
          "metadata": {},
          "execution_count": 29
        }
      ]
    },
    {
      "cell_type": "markdown",
      "source": [
        "**17. Write a code to add the element 6 to the set {1, 2, 3, 4}.**"
      ],
      "metadata": {
        "id": "XflRXpLmYvhD"
      }
    },
    {
      "cell_type": "code",
      "source": [
        "st={1, 2, 3, 4}\n",
        "st.add(6)\n",
        "st"
      ],
      "metadata": {
        "colab": {
          "base_uri": "https://localhost:8080/"
        },
        "id": "tt6TgK42YkwG",
        "outputId": "9c1b7cb1-1142-4221-da88-2a19bd773040"
      },
      "execution_count": 33,
      "outputs": [
        {
          "output_type": "execute_result",
          "data": {
            "text/plain": [
              "{1, 2, 3, 4, 6}"
            ]
          },
          "metadata": {},
          "execution_count": 33
        }
      ]
    },
    {
      "cell_type": "markdown",
      "source": [
        "**18. Write a code to create a tuple with the elements 10, 20, 30 and print it.**"
      ],
      "metadata": {
        "id": "cNXRaUPEZQOu"
      }
    },
    {
      "cell_type": "code",
      "source": [
        "tp=(10,20,30)\n",
        "tp"
      ],
      "metadata": {
        "colab": {
          "base_uri": "https://localhost:8080/"
        },
        "id": "bTUq_OmpY9AA",
        "outputId": "dae3161d-cb5d-4539-e9d9-9780648ebb6b"
      },
      "execution_count": 34,
      "outputs": [
        {
          "output_type": "execute_result",
          "data": {
            "text/plain": [
              "(10, 20, 30)"
            ]
          },
          "metadata": {},
          "execution_count": 34
        }
      ]
    },
    {
      "cell_type": "markdown",
      "source": [
        "**19. Write a code to access the first element of the tuple ('apple', 'banana', 'cherry').**"
      ],
      "metadata": {
        "id": "XVlcZpZ7Z3OB"
      }
    },
    {
      "cell_type": "code",
      "source": [
        "tp=('apple','banana','cherry')\n",
        "tp[0]"
      ],
      "metadata": {
        "colab": {
          "base_uri": "https://localhost:8080/",
          "height": 36
        },
        "id": "8azy6QcDZXCv",
        "outputId": "8cd29d50-d7f0-426c-c300-5c0211d47613"
      },
      "execution_count": 35,
      "outputs": [
        {
          "output_type": "execute_result",
          "data": {
            "text/plain": [
              "'apple'"
            ],
            "application/vnd.google.colaboratory.intrinsic+json": {
              "type": "string"
            }
          },
          "metadata": {},
          "execution_count": 35
        }
      ]
    },
    {
      "cell_type": "markdown",
      "source": [
        "**20. Write a code to count how many times the number 2 appears in the tuple (1, 2, 3, 2, 4, 2).**"
      ],
      "metadata": {
        "id": "PhofUsKyaGHK"
      }
    },
    {
      "cell_type": "code",
      "source": [
        "tp=(1,2,3,2,4,2)\n",
        "tp.count(2)"
      ],
      "metadata": {
        "colab": {
          "base_uri": "https://localhost:8080/"
        },
        "id": "BbYWtlo5Z9BW",
        "outputId": "5e7629f1-74fb-44ff-b009-8b43480a3301"
      },
      "execution_count": 36,
      "outputs": [
        {
          "output_type": "execute_result",
          "data": {
            "text/plain": [
              "3"
            ]
          },
          "metadata": {},
          "execution_count": 36
        }
      ]
    },
    {
      "cell_type": "markdown",
      "source": [
        "**21. Write a code to find the index of the element \"cat\" in the tuple ('dog', 'cat', 'rabbit').**"
      ],
      "metadata": {
        "id": "GZh_GDKCaPQH"
      }
    },
    {
      "cell_type": "code",
      "source": [
        "tp=('dog','cat','rabbit')\n",
        "tp.index('cat')"
      ],
      "metadata": {
        "colab": {
          "base_uri": "https://localhost:8080/"
        },
        "id": "apNrsk-kaKFk",
        "outputId": "062e76d9-bb6b-4362-85d6-d9e475e37de7"
      },
      "execution_count": 37,
      "outputs": [
        {
          "output_type": "execute_result",
          "data": {
            "text/plain": [
              "1"
            ]
          },
          "metadata": {},
          "execution_count": 37
        }
      ]
    },
    {
      "cell_type": "markdown",
      "source": [
        "**22. Write a code to check if the element \"banana\" is in the tuple ('apple', 'orange', 'banana').**"
      ],
      "metadata": {
        "id": "6SJkgIqlacF0"
      }
    },
    {
      "cell_type": "code",
      "source": [
        "tp=('apple','orange','banana')\n",
        "'banana'in tp"
      ],
      "metadata": {
        "colab": {
          "base_uri": "https://localhost:8080/"
        },
        "id": "gzmjNi3VaVKU",
        "outputId": "868d23db-8e04-4dd4-eca5-1d6f5d67a200"
      },
      "execution_count": 38,
      "outputs": [
        {
          "output_type": "execute_result",
          "data": {
            "text/plain": [
              "True"
            ]
          },
          "metadata": {},
          "execution_count": 38
        }
      ]
    },
    {
      "cell_type": "markdown",
      "source": [
        "**23. Write a code to create a set with the elements 1, 2, 3, 4, 5 and print it.**"
      ],
      "metadata": {
        "id": "HTF1qDDTaopR"
      }
    },
    {
      "cell_type": "code",
      "source": [
        "st={1,2,3,4,5}\n",
        "st"
      ],
      "metadata": {
        "colab": {
          "base_uri": "https://localhost:8080/"
        },
        "id": "qNe3cY26aiEo",
        "outputId": "50b1e171-d331-47a0-92cf-100501c6f0dd"
      },
      "execution_count": 39,
      "outputs": [
        {
          "output_type": "execute_result",
          "data": {
            "text/plain": [
              "{1, 2, 3, 4, 5}"
            ]
          },
          "metadata": {},
          "execution_count": 39
        }
      ]
    },
    {
      "cell_type": "markdown",
      "source": [
        "**24. Write a code to add the element 6 to the set {1, 2, 3, 4}.**"
      ],
      "metadata": {
        "id": "BymwEfh5a51v"
      }
    },
    {
      "cell_type": "code",
      "source": [
        "st={1, 2, 3, 4}\n",
        "st.add(6)\n",
        "st"
      ],
      "metadata": {
        "colab": {
          "base_uri": "https://localhost:8080/"
        },
        "id": "zq3upHX3avNy",
        "outputId": "0e4caa22-d386-4427-e489-54003b1d7d9d"
      },
      "execution_count": 40,
      "outputs": [
        {
          "output_type": "execute_result",
          "data": {
            "text/plain": [
              "{1, 2, 3, 4, 6}"
            ]
          },
          "metadata": {},
          "execution_count": 40
        }
      ]
    },
    {
      "cell_type": "code",
      "source": [],
      "metadata": {
        "id": "ivFkryHya9pJ"
      },
      "execution_count": null,
      "outputs": []
    }
  ]
}