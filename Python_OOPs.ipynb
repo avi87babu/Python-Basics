{
  "nbformat": 4,
  "nbformat_minor": 0,
  "metadata": {
    "colab": {
      "provenance": [],
      "authorship_tag": "ABX9TyPNr+pKnXumh4Uz4ye7gU5z",
      "include_colab_link": true
    },
    "kernelspec": {
      "name": "python3",
      "display_name": "Python 3"
    },
    "language_info": {
      "name": "python"
    }
  },
  "cells": [
    {
      "cell_type": "markdown",
      "metadata": {
        "id": "view-in-github",
        "colab_type": "text"
      },
      "source": [
        "<a href=\"https://colab.research.google.com/github/avi87babu/Python-Basics/blob/main/Python_OOPs.ipynb\" target=\"_parent\"><img src=\"https://colab.research.google.com/assets/colab-badge.svg\" alt=\"Open In Colab\"/></a>"
      ]
    },
    {
      "cell_type": "markdown",
      "source": [
        "# Python OOPs Questions"
      ],
      "metadata": {
        "id": "1lPVP8p8gP-x"
      }
    },
    {
      "cell_type": "markdown",
      "source": [
        "1.  What is Object-Oriented Programming (OOP)\n",
        "  * A procject can have many components, class are blueprint/template for creating an object and we are diffrent object of class human being like gujiya maker, thekua maker and other.\n",
        "2.  What is a class in OOP?\n",
        "  * A class is a template for creating objects.\n",
        "3. What is an object in OOP.\n",
        "  * An object is a unit of code that represents a specific aspect of a program.\n",
        "4. What is the difference between abstraction and encapsulation.\n",
        "  * Abstraction: Simplifies complex systems by hiding unnecessary details and exposing only the essential features.\n",
        "\n",
        "      Encapsulation: Restricts access to data and methods, ensuring data integrity and privacy.\n",
        "\n",
        "5.  What are dunder methods in Python.\n",
        "  * Dunder Method is the method defined by built-in classess in python we are define these of methods for creating custom objects\n",
        "\n",
        "      D+under=double underscore all the methods surrounding double underscore is a dunder methods\n",
        "\n",
        "6.  Explain the concept of inheritance in OOP.\n",
        "  * Inheritance refer to process of child receiving the poroperties of prent class\n",
        "\n",
        "7.  What is polymorphism in OOP.\n",
        "  * Polymorphism is poly means many and morphism means forms/states refer to an object taking sevral forms depending of the methods/data. Polymorphism in oops takes place in two ways:\n",
        "      #Method overloding>>python dosent support true method overloding.\n",
        "      #Method overriding>>method in parent class and child class with same signature, the child class method will be executed.\n",
        "\n",
        "8. How is encapsulation achieved in Python.\n",
        "  * Encapsulation means hiding somthing, bundling of data and methods of a class we can also access or modifier public, protected and private.\n",
        "\n",
        "9.  What is a constructor in Python.\n",
        "  * Constructing class with initialisation of variables/data.\n",
        "\n",
        "10. What are class and static methods in Python.\n",
        "  * Static methods dose not modify/access class or instance state and dosen't depend on class/instance it behaves like a plain function that belongs to class it dosen't take either self or cls @static method is used.\n",
        "\n",
        "11. What is method overloading in Python.\n",
        "  * Python dosen't support true method overloding. Method is taking different forms, the last methods overloads the priviouse one in the same class\n",
        "      \n",
        "12. What is method overriding in OOP.\n",
        "  * Method in parent class and child class with same signature, the child class method will be executed.\n",
        "\n",
        "13. What is a property decorator in Python.\n",
        "  * Decorator allows to modify or extend the behaviour of functions/class without directly modifying their class.\n",
        "\n",
        "14. Why is polymorphism important in OOP.\n",
        "  * Polymorphism is an important feature of object-oriented programming (OOP) because it allows programmers to write more efficient code that is easier to maintain and extend.\n",
        "\n",
        "15. What is an abstract class in Python.\n",
        "  * Abstract class is concept of hiding complex implementation and hiding unneeded details and exposing the required and also can not be instantaiated(can not make object) abstract class should be subclass and may contain methods that are just declared and not implemented in abstract class itself, subclass are responsible for implementing these abstract method.\n",
        "  \n",
        "16. What are the advantages of OOP\n",
        "  * we have a project can have many compnents, say bakend(f1,f2), frontend(f3,f4), data pipeline(f5, f6) if a backend developer wants to work/change some bakend function>> all the functions are at one place not arrenged in a good way. so oops helps you to arrenge the required in respective classes.\n",
        "  \n",
        "17. What is the difference between a class variable and an instance variable.\n",
        "  * Class variables: A single copy of a class variable exists, regardless of how many instances of the class are created. Class variables are also known as static member variables.\n",
        "  * Instance variables: Each instance of a class has its own copy of an instance variable. Instance variables are also known as member variables.\n",
        "\n",
        "18. What is multiple inheritance in Python.\n",
        "  * One child class may inherit the property of multiple perent class.\n",
        "\n",
        "19. Explain the purpose of ‘’__str__’ and ‘__repr__’ ‘ methods in Python.\n",
        "  * __str__>>Which returns string representation of method.\n",
        "  * __repr__>>Meaning represntation of class it returns unambigous string represntation of the object as it is that can we used recreate the object.\n",
        "\n",
        "20. What is the significance of the ‘super()’ function in Python.\n",
        "  * Access the data of base class using super class include super and remove self, base class is super claass.\n",
        "\n",
        "21. What is the significance of the __del__ method in Python.\n",
        "  *  __del__ method is referred to as a destructor method. It is called after an object's garbage collection occurs.\n",
        "\n",
        "22. What is the difference between @staticmethod and @classmethod in Python.\n",
        "  * Class method is bound to class and not the instance of the class, class itself as the first argument conventionally cls.\n",
        "  * Static method which can be called without creating andy instance of class and without using any self or cls.\n",
        "\n",
        "23. How does polymorphism work in Python with inheritance.\n",
        "  * Polymorphism, when used with inheritance, allows objects of different classes (usually child classes inheriting from a common parent class) to be treated as if they are the parent class, while still executing the specific methods defined within their own class, achieving this through a concept called \"method overriding\" where a child class re-implements a method inherited from the parent class.\n",
        "24. What is method chaining in Python OOPS.\n",
        "  * \"method chaining\" is a technique where you call multiple methods on the same object consecutively in a single line of code, with each method returning the object itself.\n",
        "25. What is the purpose of the __call__ method in Python?\n",
        "  * __call__ is a spcial method which is called/invoked when you call instance/object of the class as a function."
      ],
      "metadata": {
        "id": "5EHOZ30EgcwA"
      }
    },
    {
      "cell_type": "markdown",
      "source": [
        "# Practical Questions"
      ],
      "metadata": {
        "id": "_CcUAE7yVnXy"
      }
    },
    {
      "cell_type": "markdown",
      "source": [
        "1. Create a parent class Animal with a method speak() that prints a generic message. Create a child class Dog\n",
        "that overrides the speak() method to print \"Bark!\"."
      ],
      "metadata": {
        "id": "NYIdXVbSVtKl"
      }
    },
    {
      "cell_type": "code",
      "execution_count": null,
      "metadata": {
        "id": "s0aGDFejgFCM"
      },
      "outputs": [],
      "source": [
        "class Animal:\n",
        "  def __init__(self, name):\n",
        "    self.name = name\n",
        "  def speak(self):\n",
        "    pass\n",
        "class dog(Animal):\n",
        "  def speak(self):\n",
        "    return f\"{self.name} Bark\"\n"
      ]
    },
    {
      "cell_type": "code",
      "source": [
        "obj=dog(\"Tony\")\n",
        "obj.speak()"
      ],
      "metadata": {
        "colab": {
          "base_uri": "https://localhost:8080/",
          "height": 36
        },
        "id": "lnpkyQo-sLT3",
        "outputId": "a1f5cfdf-d9f5-439c-a7bc-db1e7460bd48"
      },
      "execution_count": null,
      "outputs": [
        {
          "output_type": "execute_result",
          "data": {
            "text/plain": [
              "'Tony Bark'"
            ],
            "application/vnd.google.colaboratory.intrinsic+json": {
              "type": "string"
            }
          },
          "metadata": {},
          "execution_count": 34
        }
      ]
    },
    {
      "cell_type": "markdown",
      "source": [
        "2. Write a program to create an abstract class Shape with a method area(). Derive classes Circle and Rectangle\n",
        "from it and implement the area() method in both."
      ],
      "metadata": {
        "id": "MePvyXe3snlJ"
      }
    },
    {
      "cell_type": "code",
      "source": [
        "import abc\n",
        "class Shap:\n",
        "  def __init__(self, Length, Width):\n",
        "    self.Length = Length\n",
        "    self.Width = Width\n",
        "\n",
        "  @abc.abstractmethod\n",
        "  def clc_area(self):\n",
        "    pass\n",
        "class Rectangle(Shap):\n",
        "  def clc_area(self):\n",
        "    return f\"Area of rectangle is ({self.Length*self.Width})\"\n",
        "class circle(Shap):\n",
        "  def clc_area(self):\n",
        "    return f\"area of circle is ({3.14*self.Length **2})\""
      ],
      "metadata": {
        "id": "4VGzIaS7sYnh"
      },
      "execution_count": null,
      "outputs": []
    },
    {
      "cell_type": "code",
      "source": [
        "rec=Rectangle(5, 6)\n",
        "rec.clc_area()"
      ],
      "metadata": {
        "colab": {
          "base_uri": "https://localhost:8080/",
          "height": 36
        },
        "id": "sxQxBQsTtKPw",
        "outputId": "f2310ac5-8e8b-45f6-e810-c1884a5cadff"
      },
      "execution_count": null,
      "outputs": [
        {
          "output_type": "execute_result",
          "data": {
            "text/plain": [
              "'Area of rectangle is (30)'"
            ],
            "application/vnd.google.colaboratory.intrinsic+json": {
              "type": "string"
            }
          },
          "metadata": {},
          "execution_count": 36
        }
      ]
    },
    {
      "cell_type": "code",
      "source": [
        "circ=circle(6,3)\n",
        "circ.clc_area()"
      ],
      "metadata": {
        "colab": {
          "base_uri": "https://localhost:8080/",
          "height": 36
        },
        "id": "-2zH6J1Cu_dw",
        "outputId": "d6287dc0-3e2d-4e51-a04f-adf2a5b45513"
      },
      "execution_count": null,
      "outputs": [
        {
          "output_type": "execute_result",
          "data": {
            "text/plain": [
              "'area of circle is (113.04)'"
            ],
            "application/vnd.google.colaboratory.intrinsic+json": {
              "type": "string"
            }
          },
          "metadata": {},
          "execution_count": 38
        }
      ]
    },
    {
      "cell_type": "markdown",
      "source": [
        "3. Implement a multi-level inheritance scenario where a class Vehicle has an attribute type. Derive a class Car\n",
        "and further derive a class ElectricCar that adds a battery attribute."
      ],
      "metadata": {
        "id": "6FbP-6aSvQ5g"
      }
    },
    {
      "cell_type": "code",
      "source": [
        "class Vehicle():\n",
        "  def __init__(self,Name):\n",
        "    self.Name=Name\n",
        "\n",
        "  def vehicle_info(self):\n",
        "    pass\n",
        "\n",
        "class Car(Vehicle):\n",
        "  def car_info(self):\n",
        "    print(\"inside car information\")\n",
        "\n",
        "class ElectricCar(Car):\n",
        "  def ElectricCar_info(self):\n",
        "    return f\"Electric Car have {self.Name}\""
      ],
      "metadata": {
        "id": "mxGLaIpwvKEc"
      },
      "execution_count": null,
      "outputs": []
    },
    {
      "cell_type": "code",
      "source": [
        "ele=ElectricCar(\"Battery\")\n",
        "ele.ElectricCar_info()"
      ],
      "metadata": {
        "colab": {
          "base_uri": "https://localhost:8080/",
          "height": 36
        },
        "id": "T_QU-YsyJLLh",
        "outputId": "8a06afb4-3f5e-4611-ed2f-8376fb2eb97d"
      },
      "execution_count": null,
      "outputs": [
        {
          "output_type": "execute_result",
          "data": {
            "text/plain": [
              "'Electric Car have Battery'"
            ],
            "application/vnd.google.colaboratory.intrinsic+json": {
              "type": "string"
            }
          },
          "metadata": {},
          "execution_count": 45
        }
      ]
    },
    {
      "cell_type": "markdown",
      "source": [
        "4.  Implement a multi-level inheritance scenario where a class Vehicle has an attribute type. Derive a class Car and further derive a class ElectricCar that adds a battery attribute."
      ],
      "metadata": {
        "id": "arB2y6Y_HhJm"
      }
    },
    {
      "cell_type": "code",
      "source": [
        "class Vehicle():\n",
        "  def __init__(self,Name):\n",
        "    self.Name=Name\n",
        "\n",
        "  def vehicle_info(self):\n",
        "    pass\n",
        "\n",
        "class Car(Vehicle):\n",
        "  def car_info(self):\n",
        "    print(\"inside car information\")\n",
        "\n",
        "class ElectricCar(Car):\n",
        "  def ElectricCar_info(self):\n",
        "    return f\"Electric Car have {self.Name}\""
      ],
      "metadata": {
        "id": "_C1eQkFeJYtY"
      },
      "execution_count": null,
      "outputs": []
    },
    {
      "cell_type": "code",
      "source": [
        "ele=ElectricCar(\"Battery\")\n",
        "ele.ElectricCar_info()"
      ],
      "metadata": {
        "colab": {
          "base_uri": "https://localhost:8080/",
          "height": 36
        },
        "id": "bBim3SXjHtdI",
        "outputId": "889b0387-3654-4f62-bd4b-4bc6e237b918"
      },
      "execution_count": null,
      "outputs": [
        {
          "output_type": "execute_result",
          "data": {
            "text/plain": [
              "'Electric Car have Battery'"
            ],
            "application/vnd.google.colaboratory.intrinsic+json": {
              "type": "string"
            }
          },
          "metadata": {},
          "execution_count": 2
        }
      ]
    },
    {
      "cell_type": "markdown",
      "source": [
        "5. Write a program to demonstrate encapsulation by creating a class BankAccount with private attributes\n",
        "balance and methods to deposit, withdraw, and check balance."
      ],
      "metadata": {
        "id": "6MMd9lrFHytT"
      }
    },
    {
      "cell_type": "code",
      "source": [
        "class Bank():\n",
        "  def __init__(self, Balance):\n",
        "    self.__Balance = Balance\n",
        "\n",
        "  def deposit(self, Amount):\n",
        "    self.__Balance=self.__Balance + Amount\n",
        "\n",
        "  def withdraw(self, Amount):\n",
        "    if self.__Balance >= Amount:\n",
        "      self.__Balance=self.__Balance - Amount\n",
        "      return True\n",
        "    else:\n",
        "      return False\n",
        "\n",
        "  def get_balance(self):\n",
        "    return self.__Balance\n",
        "\n"
      ],
      "metadata": {
        "id": "QUCr-ycBHuJ6"
      },
      "execution_count": null,
      "outputs": []
    },
    {
      "cell_type": "code",
      "source": [
        "bal=Bank(100)\n",
        "bal.deposit(200)"
      ],
      "metadata": {
        "id": "w3qZh9xjKqix"
      },
      "execution_count": null,
      "outputs": []
    },
    {
      "cell_type": "code",
      "source": [
        "bal.get_balance()"
      ],
      "metadata": {
        "colab": {
          "base_uri": "https://localhost:8080/"
        },
        "id": "04nLkneaLCB3",
        "outputId": "cd7c07d6-9939-486f-d16d-7f5f74e6cfb7"
      },
      "execution_count": null,
      "outputs": [
        {
          "output_type": "execute_result",
          "data": {
            "text/plain": [
              "300"
            ]
          },
          "metadata": {},
          "execution_count": 9
        }
      ]
    },
    {
      "cell_type": "markdown",
      "source": [
        "6. Demonstrate runtime polymorphism using a method play() in a base class Instrument. Derive classes Guitar\n",
        "and Piano that implement their own version of play()."
      ],
      "metadata": {
        "id": "N_2uFI5uL0MT"
      }
    },
    {
      "cell_type": "code",
      "source": [
        "class Instrument:\n",
        "    def play(self):\n",
        "        print(\"instrument sound\")\n",
        "\n",
        "class Guitar(Instrument):\n",
        "    def play(self):\n",
        "        print(\"guitar sound\")\n",
        "\n",
        "class Piano(Instrument):\n",
        "    def play(self):\n",
        "        print(\"Piano sound\")\n",
        "\n"
      ],
      "metadata": {
        "id": "qIlKyzTXLYri"
      },
      "execution_count": null,
      "outputs": []
    },
    {
      "cell_type": "code",
      "source": [
        "# Creating objects\n",
        "gt = Guitar()\n",
        "pi = Piano()\n",
        "\n",
        "# Creating a list of instruments with base class reference\n",
        "instruments = [gt, pi]\n",
        "\n",
        "# Demonstrating runtime polymorphism\n",
        "for instrument in instruments:\n",
        "    instrument.play()"
      ],
      "metadata": {
        "colab": {
          "base_uri": "https://localhost:8080/"
        },
        "id": "JJoyf6BbQyEm",
        "outputId": "82fab59b-9d20-498a-e6bc-38bcd4e305cc"
      },
      "execution_count": null,
      "outputs": [
        {
          "output_type": "stream",
          "name": "stdout",
          "text": [
            "guitar sound\n",
            "Piano sound\n"
          ]
        }
      ]
    },
    {
      "cell_type": "markdown",
      "source": [
        "7. Create a class MathOperations with a class method add_numbers() to add two numbers and a static\n",
        "method subtract_numbers() to subtract two numbers."
      ],
      "metadata": {
        "id": "3hCTN_quRgpm"
      }
    },
    {
      "cell_type": "code",
      "source": [
        "class MathOperations:\n",
        "  @staticmethod\n",
        "  def add_numbers(x, y):\n",
        "    return x+y\n",
        "\n",
        "  @staticmethod\n",
        "  def subtract_numbers(x, y):\n",
        "    return x-y"
      ],
      "metadata": {
        "id": "SinnmBL8RAMC"
      },
      "execution_count": null,
      "outputs": []
    },
    {
      "cell_type": "code",
      "source": [
        "MathOperations.add_numbers(5,10)"
      ],
      "metadata": {
        "colab": {
          "base_uri": "https://localhost:8080/"
        },
        "id": "hirWFoNmTgCc",
        "outputId": "32beb31c-7f81-44e6-aa97-3ece87a29cbd"
      },
      "execution_count": null,
      "outputs": [
        {
          "output_type": "execute_result",
          "data": {
            "text/plain": [
              "15"
            ]
          },
          "metadata": {},
          "execution_count": 16
        }
      ]
    },
    {
      "cell_type": "code",
      "source": [
        "MathOperations.subtract_numbers(10,5)"
      ],
      "metadata": {
        "colab": {
          "base_uri": "https://localhost:8080/"
        },
        "id": "Q65MgnHXUAYB",
        "outputId": "946d6f1f-17ad-4570-e301-761c40136d01"
      },
      "execution_count": null,
      "outputs": [
        {
          "output_type": "execute_result",
          "data": {
            "text/plain": [
              "5"
            ]
          },
          "metadata": {},
          "execution_count": 17
        }
      ]
    },
    {
      "cell_type": "markdown",
      "source": [
        "8. Implement a class Person with a class method to count the total number of persons created."
      ],
      "metadata": {
        "id": "CDAawA0EUQT_"
      }
    },
    {
      "cell_type": "code",
      "source": [
        "class Person:\n",
        "\n",
        "  total_person=0\n",
        "  def __init__(self, name):\n",
        "    self.name = name\n",
        "    Person.total_person = Person.total_person + 1\n",
        "  @classmethod\n",
        "  def get_totalPerson(cls):\n",
        "    return cls.total_person"
      ],
      "metadata": {
        "id": "5ZGyvUZeUI0A"
      },
      "execution_count": null,
      "outputs": []
    },
    {
      "cell_type": "code",
      "source": [
        "Person.total_person"
      ],
      "metadata": {
        "colab": {
          "base_uri": "https://localhost:8080/"
        },
        "id": "D92czarSXroy",
        "outputId": "5c59dcf5-ed6a-481b-edce-22452cdb24d1"
      },
      "execution_count": null,
      "outputs": [
        {
          "output_type": "execute_result",
          "data": {
            "text/plain": [
              "0"
            ]
          },
          "metadata": {},
          "execution_count": 19
        }
      ]
    },
    {
      "cell_type": "code",
      "source": [
        "t1=Person(\"Avinash\")\n",
        "t2=Person(\"Rahul\")\n",
        "t3=Person(\"Krishna\")"
      ],
      "metadata": {
        "id": "WBW5_7nvX7Hd"
      },
      "execution_count": null,
      "outputs": []
    },
    {
      "cell_type": "code",
      "source": [
        "t1.name"
      ],
      "metadata": {
        "colab": {
          "base_uri": "https://localhost:8080/",
          "height": 36
        },
        "id": "9G0QyitKYLWK",
        "outputId": "df0d72bd-e123-478c-dae4-e11a67075254"
      },
      "execution_count": null,
      "outputs": [
        {
          "output_type": "execute_result",
          "data": {
            "text/plain": [
              "'Avinash'"
            ],
            "application/vnd.google.colaboratory.intrinsic+json": {
              "type": "string"
            }
          },
          "metadata": {},
          "execution_count": 21
        }
      ]
    },
    {
      "cell_type": "code",
      "source": [
        "t2.name"
      ],
      "metadata": {
        "colab": {
          "base_uri": "https://localhost:8080/",
          "height": 36
        },
        "id": "z8HDNNzQYRm1",
        "outputId": "19835ee6-5bf7-4df4-b3fb-8eb0dcf8d767"
      },
      "execution_count": null,
      "outputs": [
        {
          "output_type": "execute_result",
          "data": {
            "text/plain": [
              "'Rahul'"
            ],
            "application/vnd.google.colaboratory.intrinsic+json": {
              "type": "string"
            }
          },
          "metadata": {},
          "execution_count": 22
        }
      ]
    },
    {
      "cell_type": "code",
      "source": [
        "t3.name"
      ],
      "metadata": {
        "colab": {
          "base_uri": "https://localhost:8080/",
          "height": 36
        },
        "id": "tpYJhVpcYTKf",
        "outputId": "ab6dc7c9-9016-40cf-8903-b52550a9faf0"
      },
      "execution_count": null,
      "outputs": [
        {
          "output_type": "execute_result",
          "data": {
            "text/plain": [
              "'Krishna'"
            ],
            "application/vnd.google.colaboratory.intrinsic+json": {
              "type": "string"
            }
          },
          "metadata": {},
          "execution_count": 23
        }
      ]
    },
    {
      "cell_type": "code",
      "source": [
        "Person.total_person"
      ],
      "metadata": {
        "colab": {
          "base_uri": "https://localhost:8080/"
        },
        "id": "duFBD3rxYU0A",
        "outputId": "8a5c0d61-e920-4f31-c2d6-92517f341fe2"
      },
      "execution_count": null,
      "outputs": [
        {
          "output_type": "execute_result",
          "data": {
            "text/plain": [
              "3"
            ]
          },
          "metadata": {},
          "execution_count": 24
        }
      ]
    },
    {
      "cell_type": "markdown",
      "source": [
        "9. Write a class Fraction with attributes numerator and denominator. Override the str method to display the\n",
        "fraction as \"numerator/denominator\"."
      ],
      "metadata": {
        "id": "0iJG6anaYblQ"
      }
    },
    {
      "cell_type": "code",
      "source": [
        "from fractions import Fraction as frac\n",
        "import math\n",
        "print('Square Root: ' + str(math.sqrt(frac(36, 64))))\n",
        "print('Square Root: ' + str(frac(math.sqrt(frac(36, 64)))))\n",
        "print('Floor Value: ' + str(math.floor(frac('22/7'))))\n",
        "print('Ceiling Value: ' + str(math.ceil(frac('22/7'))))"
      ],
      "metadata": {
        "colab": {
          "base_uri": "https://localhost:8080/"
        },
        "id": "bCfjHbvcYXMX",
        "outputId": "5e80b494-f38c-4572-8527-52b261054e2a"
      },
      "execution_count": null,
      "outputs": [
        {
          "output_type": "stream",
          "name": "stdout",
          "text": [
            "Square Root: 0.75\n",
            "Square Root: 3/4\n",
            "Floor Value: 3\n",
            "Ceiling Value: 4\n"
          ]
        }
      ]
    },
    {
      "cell_type": "markdown",
      "source": [
        "10. Demonstrate operator overloading by creating a class Vector and overriding the add method to add two\n",
        "vectors."
      ],
      "metadata": {
        "id": "zwGvnhXsaT9q"
      }
    },
    {
      "cell_type": "code",
      "source": [
        "class Vector:\n",
        "  def __init__(self, x, y):\n",
        "    self.x = x\n",
        "    self.y = y\n",
        "  def __add__(self, other):\n",
        "    return Vector(self.x + other.x, self.y + other.y)"
      ],
      "metadata": {
        "id": "BMheKERgaFg4"
      },
      "execution_count": null,
      "outputs": []
    },
    {
      "cell_type": "code",
      "source": [
        "p1 = Vector(1, 2)\n",
        "p2 = Vector(1, 2)\n",
        "p3 = p1 + p2\n",
        "print(p3.x, p3.y)"
      ],
      "metadata": {
        "colab": {
          "base_uri": "https://localhost:8080/"
        },
        "id": "auV8BDQoeCUq",
        "outputId": "90b41cbf-65f3-4f48-d912-9126e1967e86"
      },
      "execution_count": null,
      "outputs": [
        {
          "output_type": "stream",
          "name": "stdout",
          "text": [
            "2 4\n"
          ]
        }
      ]
    },
    {
      "cell_type": "markdown",
      "source": [
        "11. Create a class Person with attributes name and age. Add a method greet() that prints \"Hello, my name is\n",
        "{name} and I am {age} years old.\""
      ],
      "metadata": {
        "id": "JUuPIqeQfV2v"
      }
    },
    {
      "cell_type": "code",
      "source": [
        "class person:\n",
        "  def __init__(self, name, age):\n",
        "    self.name = name\n",
        "    self.age = age\n",
        "  def greet(self):\n",
        "    return f\"Hello, my name is {self.name} and I am  {self.age} years old\"\n"
      ],
      "metadata": {
        "id": "28mnzgEgebOH"
      },
      "execution_count": null,
      "outputs": []
    },
    {
      "cell_type": "code",
      "source": [
        "pr=person(\"Avinash\", 37)\n",
        "pr.greet()"
      ],
      "metadata": {
        "colab": {
          "base_uri": "https://localhost:8080/",
          "height": 36
        },
        "id": "zUm2YZLTVkX8",
        "outputId": "999129a2-0bb7-420b-bd3a-e15637963ecf"
      },
      "execution_count": null,
      "outputs": [
        {
          "output_type": "execute_result",
          "data": {
            "text/plain": [
              "'Hello, my name is Avinash and I am  37 years old'"
            ],
            "application/vnd.google.colaboratory.intrinsic+json": {
              "type": "string"
            }
          },
          "metadata": {},
          "execution_count": 14
        }
      ]
    },
    {
      "cell_type": "markdown",
      "source": [
        "12. Implement a class Student with attributes name and grades. Create a method average_grade() to compute\n",
        "the average of the grades."
      ],
      "metadata": {
        "id": "It372dDEXKwL"
      }
    },
    {
      "cell_type": "code",
      "source": [
        "class Student:\n",
        "  def __init__(self, name, grades):\n",
        "    self.name = name\n",
        "    self.grades = grades\n",
        "  def average_grade(self):\n",
        "    if self.grades >= 80:\n",
        "      print(self.name)\n",
        "      print(\"Grade A\")\n",
        "    elif self.grades >= 50:\n",
        "      print(self.name)\n",
        "      print(\"Grade B\")\n",
        "    else:\n",
        "      print(self.name)\n",
        "      print(\"Grad C\")"
      ],
      "metadata": {
        "id": "zeZZQerWVyGn"
      },
      "execution_count": null,
      "outputs": []
    },
    {
      "cell_type": "code",
      "source": [
        "obj=Student(\"avinash\", 87)\n",
        "obj.average_grade()"
      ],
      "metadata": {
        "colab": {
          "base_uri": "https://localhost:8080/"
        },
        "id": "Xa7Vg86SgnSZ",
        "outputId": "02f909dd-0201-40ee-b938-b5fd2d89a2ff"
      },
      "execution_count": null,
      "outputs": [
        {
          "output_type": "stream",
          "name": "stdout",
          "text": [
            "avinash\n",
            "Grade A\n"
          ]
        }
      ]
    },
    {
      "cell_type": "markdown",
      "source": [
        "13. Create a class Rectangle with methods set_dimensions() to set the dimensions and area() to calculate the\n",
        "area."
      ],
      "metadata": {
        "id": "OSbU5Fa3lmwe"
      }
    },
    {
      "cell_type": "code",
      "source": [
        "class Rectangle:\n",
        "  def __init__(self, length, width):\n",
        "    self.length = length\n",
        "    self.width = width\n",
        "\n",
        "  def area(self):\n",
        "    return f\"Area of Rectangle {self.length * self.width}\"\n"
      ],
      "metadata": {
        "id": "7vZBILv2g-dN"
      },
      "execution_count": null,
      "outputs": []
    },
    {
      "cell_type": "code",
      "source": [
        "rect=Rectangle(3, 5)\n",
        "rect.area()"
      ],
      "metadata": {
        "colab": {
          "base_uri": "https://localhost:8080/",
          "height": 36
        },
        "id": "g-Gk5DgDsApO",
        "outputId": "045d0fce-ee0b-485c-87df-eae374e3d6c6"
      },
      "execution_count": null,
      "outputs": [
        {
          "output_type": "execute_result",
          "data": {
            "text/plain": [
              "'Area of Rectangle 15'"
            ],
            "application/vnd.google.colaboratory.intrinsic+json": {
              "type": "string"
            }
          },
          "metadata": {},
          "execution_count": 44
        }
      ]
    },
    {
      "cell_type": "markdown",
      "source": [
        "14. Create a class Employee with a method calculate_salary() that computes the salary based on hours worked\n",
        "and hourly rate. Create a derived class Manager that adds a bonus to the salary."
      ],
      "metadata": {
        "id": "rptgezUIsOH1"
      }
    },
    {
      "cell_type": "code",
      "source": [
        "class Employee:\n",
        "  def __init__(self, emName, empID):\n",
        "    self.emName = emName\n",
        "    self.empID = empID\n",
        "\n",
        "  def disply(self):\n",
        "    print(\"Employee Name is = \",self.emName)\n",
        "    print(\"Employee Id is = \",self.empID)\n",
        "\n",
        "class Manager(Employee):\n",
        "  def __init__(self, emName, empID, T_hours,bonus):\n",
        "    super().__init__(emName, empID)\n",
        "    self.T_hours = T_hours\n",
        "    self.bonus = bonus\n",
        "  def calculate_salary(self):\n",
        "    hours=500   #per Hours Rs.\n",
        "    salary=self.T_hours * hours\n",
        "    Total_salary=salary + self.bonus\n",
        "    print(\"Total Hours = \",self.T_hours)\n",
        "    print(\"Given Bonus = \",self.bonus)\n",
        "    print(\"Given Salary = \",salary)\n",
        "    print(\"Given Total Salary = \",Total_salary)"
      ],
      "metadata": {
        "id": "dkVrV6d3sJVJ"
      },
      "execution_count": 15,
      "outputs": []
    },
    {
      "cell_type": "code",
      "source": [
        "obj = Manager(\"Avinash\",543,50,1000)\n",
        "obj.disply()\n",
        "obj.calculate_salary()"
      ],
      "metadata": {
        "colab": {
          "base_uri": "https://localhost:8080/"
        },
        "id": "BBlPVodJvSd0",
        "outputId": "72fc08ee-2e22-40e5-a663-ab4af0f21aa8"
      },
      "execution_count": 17,
      "outputs": [
        {
          "output_type": "stream",
          "name": "stdout",
          "text": [
            "Employee Name is =  Avinash\n",
            "Employee Id is =  543\n",
            "Total Hours =  50\n",
            "Given Bonus =  1000\n",
            "Given Salary =  25000\n",
            "Given Total Salary =  26000\n"
          ]
        }
      ]
    },
    {
      "cell_type": "markdown",
      "source": [
        "15. Create a class Product with attributes name, price, and quantity. Implement a method total_price() that\n",
        "calculates the total price of the product."
      ],
      "metadata": {
        "id": "pXputqx3xsjr"
      }
    },
    {
      "cell_type": "code",
      "source": [
        "class Product:\n",
        "  def __init__(self, Pname, price, quantity):\n",
        "    self.Pname = Pname\n",
        "    self.price = price\n",
        "    self.quantity = quantity\n",
        "\n",
        "  def total_price(self):\n",
        "    print(\"Product Name is = \",self.Pname)\n",
        "    print(\"Product Price is = \", self.price)\n",
        "    print(\"Total Quantity is = \", self.quantity)\n",
        "    print(\"Total Price of Product is = \",self.quantity * self.price)"
      ],
      "metadata": {
        "id": "gUW3RpQEyd74"
      },
      "execution_count": 18,
      "outputs": []
    },
    {
      "cell_type": "code",
      "source": [
        "obj=Product(\"T-Shirt\",500,15)\n",
        "obj.total_price()"
      ],
      "metadata": {
        "colab": {
          "base_uri": "https://localhost:8080/"
        },
        "id": "Yb3tIJpyzTH4",
        "outputId": "9df1b737-9a2a-44a7-ab2c-04ff257a1297"
      },
      "execution_count": 19,
      "outputs": [
        {
          "output_type": "stream",
          "name": "stdout",
          "text": [
            "Product Name is =  T-Shirt\n",
            "Product Price is =  500\n",
            "Total Quantity is =  15\n",
            "Total Price of Product is =  7500\n"
          ]
        }
      ]
    },
    {
      "cell_type": "markdown",
      "source": [
        "16. Create a class Animal with an abstract method sound(). Create two derived classes Cow and Sheep that\n",
        "implement the sound() method."
      ],
      "metadata": {
        "id": "_mOpSy9czp4_"
      }
    },
    {
      "cell_type": "code",
      "source": [
        "import abc"
      ],
      "metadata": {
        "id": "WAOiqVMP1K-J"
      },
      "execution_count": 20,
      "outputs": []
    },
    {
      "cell_type": "code",
      "source": [
        "class Animal:\n",
        "\n",
        "    @abc.abstractmethod\n",
        "    def sound(self):\n",
        "        pass\n"
      ],
      "metadata": {
        "id": "2Ifg_PWMzibm"
      },
      "execution_count": 21,
      "outputs": []
    },
    {
      "cell_type": "code",
      "source": [
        "class Cow(Animal):\n",
        "  def sound(self):\n",
        "    print(\"Cow Sound\")\n",
        "\n",
        "class Sheep(Animal):\n",
        "  def sound(self):\n",
        "    print(\"Sheep Sound\")\n"
      ],
      "metadata": {
        "id": "bTLQPyJ51ieC"
      },
      "execution_count": 22,
      "outputs": []
    },
    {
      "cell_type": "code",
      "source": [
        "obj1=Cow()\n",
        "obj2=Sheep()\n",
        "\n",
        "obj1.sound()\n",
        "obj2.sound()"
      ],
      "metadata": {
        "colab": {
          "base_uri": "https://localhost:8080/"
        },
        "id": "8xyYCtA82sbs",
        "outputId": "8115b829-7f2a-49e6-f7df-3a162bd53b5b"
      },
      "execution_count": 25,
      "outputs": [
        {
          "output_type": "stream",
          "name": "stdout",
          "text": [
            "Cow Sound\n",
            "Sheep Sound\n"
          ]
        }
      ]
    },
    {
      "cell_type": "markdown",
      "source": [
        "17. Create a class Book with attributes title, author, and year_published. Add a method get_book_info() that\n",
        "returns a formatted string with the book's details."
      ],
      "metadata": {
        "id": "xjtg8lXM4myV"
      }
    },
    {
      "cell_type": "code",
      "source": [
        "class Book:\n",
        "  def __init__(self, title, author, year_published):\n",
        "    self.title = title\n",
        "    self.author = author\n",
        "    self.year_published = year_published\n",
        "  def get_book_info(self):\n",
        "    print(\"Book Title is ={0}\\nBook Author Name is ={1} \\nYear of Published ={2}\".format(self.title, self.author, self.year_published))\n"
      ],
      "metadata": {
        "id": "WRnd35NF20A1"
      },
      "execution_count": 31,
      "outputs": []
    },
    {
      "cell_type": "code",
      "source": [
        "obj=Book(\"ML\",\"Murphy\", 2015)\n",
        "obj.get_book_info()"
      ],
      "metadata": {
        "colab": {
          "base_uri": "https://localhost:8080/"
        },
        "id": "fIcG5x6C-kUl",
        "outputId": "74fc7c73-af87-4493-f417-e7f34f20efeb"
      },
      "execution_count": 32,
      "outputs": [
        {
          "output_type": "stream",
          "name": "stdout",
          "text": [
            "Book Title is =ML\n",
            "Book Author Name is =Murphy \n",
            "Year of Published =2015\n"
          ]
        }
      ]
    },
    {
      "cell_type": "markdown",
      "source": [
        "18. Create a class House with attributes address and price. Create a derived class Mansion that adds an\n",
        "attribute number_of_rooms."
      ],
      "metadata": {
        "id": "PrRVIDn2_LIH"
      }
    },
    {
      "cell_type": "code",
      "source": [
        "class House:\n",
        "  def __init__(self, Address, Price):\n",
        "    self.Address = Address\n",
        "    self.Price = Price\n",
        "class Mansion(House):\n",
        "  def __init__(self, Address, Price,Number_of_rooms):\n",
        "    super().__init__(Address, Price)\n",
        "    self.Number_of_rooms = Number_of_rooms\n",
        "  def display(self):\n",
        "    print(\"House Address is =\",self.Address)\n",
        "    print(\"Room Prise is =\",self.Price)\n",
        "    print(\"No of Rooms is =\",self.Number_of_rooms)"
      ],
      "metadata": {
        "id": "CCxF3AGE-ynL"
      },
      "execution_count": 35,
      "outputs": []
    },
    {
      "cell_type": "code",
      "source": [
        "obj=Mansion(\"Delhi\", 2000, 5)\n",
        "obj.display()"
      ],
      "metadata": {
        "colab": {
          "base_uri": "https://localhost:8080/"
        },
        "id": "dsrYPOk6A4ok",
        "outputId": "bc90dacb-333a-44c2-9f9d-f178dd42b3f9"
      },
      "execution_count": 36,
      "outputs": [
        {
          "output_type": "stream",
          "name": "stdout",
          "text": [
            "House Address is = Delhi\n",
            "Room Prise is = 2000\n",
            "No of Rooms is = 5\n"
          ]
        }
      ]
    },
    {
      "cell_type": "code",
      "source": [],
      "metadata": {
        "id": "fElAeWlNBDjS"
      },
      "execution_count": null,
      "outputs": []
    }
  ]
}