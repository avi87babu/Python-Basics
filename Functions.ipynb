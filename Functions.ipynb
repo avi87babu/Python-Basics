{
  "nbformat": 4,
  "nbformat_minor": 0,
  "metadata": {
    "colab": {
      "provenance": [],
      "authorship_tag": "ABX9TyPAbQPdLdIExB0IPc66crlH",
      "include_colab_link": true
    },
    "kernelspec": {
      "name": "python3",
      "display_name": "Python 3"
    },
    "language_info": {
      "name": "python"
    }
  },
  "cells": [
    {
      "cell_type": "markdown",
      "metadata": {
        "id": "view-in-github",
        "colab_type": "text"
      },
      "source": [
        "<a href=\"https://colab.research.google.com/github/avi87babu/Python-Basics/blob/main/Functions.ipynb\" target=\"_parent\"><img src=\"https://colab.research.google.com/assets/colab-badge.svg\" alt=\"Open In Colab\"/></a>"
      ]
    },
    {
      "cell_type": "markdown",
      "source": [
        "# Theory Questions:\n",
        "\n",
        "1. What is the difference between a function and a method in Python?\n",
        "  * Function is a block of code which perform specific task/computation or functions are reusable, neat, clean and orgnised save our time while method perform specific class/object e.g. type, len print & others. this is inbilt function.\n",
        "\n",
        "2. Explain the concept of function arguments and parameters in Python.\n",
        "  * when assign a veriables in the function is called arguments and passing the value in the function calld parameters.\n",
        "\n",
        "    Example:\n",
        "      \n",
        "        def add(a,b)     #Argument\n",
        "\n",
        "            return(a+b)\n",
        "\n",
        "        add(2,5)   #parameter    \n",
        "\n",
        "3. What are the different ways to define and call a function in Python?\n",
        "  * define fuction have a 4 elements 1. def keyword 2. function name 3. argument 4. return statement\n",
        "\n",
        "    Example:\n",
        "    \n",
        "        def add(a,b):\n",
        "            return(a+b)\n",
        "\n",
        "        add(2,5)\n",
        "\n",
        "4. What is the purpose of the `return` statement in a Python function?\n",
        "  * 'return' statement given a result of the function.\n",
        "\n",
        "    Example:\n",
        "    \n",
        "      return(a+b)\n",
        "\n",
        "5. What are iterators in Python and how do they differ from iterables?\n",
        "  * iterables which can produced or which can returns member one by one and first converting the iterable string to iterator object using iter and the access using next.\n",
        "\n",
        "    Example:\n",
        "\n",
        "      iter(\"string\")\n",
        "\n",
        "6. Explain the concept of generators in Python and how they are defined.\n",
        "  * A general function use return statement but a generator function use yield statement and genrate result one by one instead of one go.\n",
        "\n",
        "7. What are the advantages of using generators over regular functions?\n",
        "  * As per regular functions compare to generator function don't need to store all value in memory at once and execution time also reduce.\n",
        "\n",
        "8. What is a lambda function in Python and when is it typically used?\n",
        "  * Lambda function is anonymous function and no need to return statement and def keyworkd that is define single line of code and used for short tirms oprations.\n",
        "\n",
        "9. Explain the purpose and usage of the `map()` function in Python.\n",
        "  * map() function executes sa specified for each of terms of an iterable used in list, tupple, set.\n",
        "\n",
        "10. What is the difference between `map()`, `reduce()`, and `filter()` functions in Python?\n",
        "  * - The map () function returns a map object(which is an iterator) of the results after applying the given function to each item of a given iterable (list, tuple, etc.).\n",
        "\n",
        "     - The reduce function is used to apply a particular function passed in its argument to all of the list elements mentioned in the sequence passed along.This function is defined in “functools” module.\n",
        "     -  The filter() method filters the given sequence with the help of a function that tests each element in the sequence to be true or not.\n",
        "\n",
        "11. Using pen & Paper write the internal mechanism for sum operation using  reduce function on this given\n",
        "list:[47,11,42,13];\n",
        "  * https://drive.google.com/file/d/16y5X9JNGPzHVH5iFKvIJAjulkhQmp4R9/view?usp=sharing"
      ],
      "metadata": {
        "id": "OJnDgqFMLn5G"
      }
    },
    {
      "cell_type": "markdown",
      "source": [
        "# Practical Questions:"
      ],
      "metadata": {
        "id": "I39XyVWFvndf"
      }
    },
    {
      "cell_type": "markdown",
      "source": [
        "1. Write a Python function that takes a list of numbers as input and returns the sum of all even numbers in\n",
        "the list."
      ],
      "metadata": {
        "id": "z4HKYkvEOODJ"
      }
    },
    {
      "cell_type": "code",
      "source": [
        "l=[1,2,3,4,5,6,7,8,9,10,11,12,13,14]\n",
        "def evn(l):\n",
        "    a=0\n",
        "    for i in l:\n",
        "        if i % 2==0:\n",
        "            a=a+i\n",
        "    return a\n",
        "evn(l)"
      ],
      "metadata": {
        "colab": {
          "base_uri": "https://localhost:8080/"
        },
        "id": "uzwQlXT2OAse",
        "outputId": "edf7c5b0-6634-4eb7-95c7-ae43fe47e984"
      },
      "execution_count": 1,
      "outputs": [
        {
          "output_type": "execute_result",
          "data": {
            "text/plain": [
              "56"
            ]
          },
          "metadata": {},
          "execution_count": 1
        }
      ]
    },
    {
      "cell_type": "markdown",
      "source": [
        "\n",
        "2. Create a Python function that accepts a string and returns the reverse of that string.\n"
      ],
      "metadata": {
        "id": "h9mpf2j5OUdp"
      }
    },
    {
      "cell_type": "code",
      "source": [
        "def rvstring(name):\n",
        "  return name[::-1]\n",
        "rvstring(\"avinash\")"
      ],
      "metadata": {
        "colab": {
          "base_uri": "https://localhost:8080/",
          "height": 36
        },
        "id": "E3VhIxnjOF6b",
        "outputId": "f0783dc9-21fb-48b6-ac60-75d90d0f8db1"
      },
      "execution_count": 4,
      "outputs": [
        {
          "output_type": "execute_result",
          "data": {
            "text/plain": [
              "'hsaniva'"
            ],
            "application/vnd.google.colaboratory.intrinsic+json": {
              "type": "string"
            }
          },
          "metadata": {},
          "execution_count": 4
        }
      ]
    },
    {
      "cell_type": "markdown",
      "source": [
        "3. Implement a Python function that takes a list of integers and returns a new list containing the squares of\n",
        "each number."
      ],
      "metadata": {
        "id": "8ZwV5lo7ZA7X"
      }
    },
    {
      "cell_type": "code",
      "source": [
        "list1=[1,2,3,4,5,6,7,8,9,10]\n",
        "def lsqr(list1):\n",
        "  l1=[]\n",
        "  for i in list1:\n",
        "    l1.append(i**2)\n",
        "  return(l1)\n",
        "\n"
      ],
      "metadata": {
        "id": "dGsQG9FOXGob"
      },
      "execution_count": 54,
      "outputs": []
    },
    {
      "cell_type": "code",
      "source": [
        "  lsqr(list1)"
      ],
      "metadata": {
        "colab": {
          "base_uri": "https://localhost:8080/"
        },
        "id": "N--Jv13ObfUF",
        "outputId": "5dccd4fb-3d3b-4282-b357-69195ef62e91"
      },
      "execution_count": 55,
      "outputs": [
        {
          "output_type": "execute_result",
          "data": {
            "text/plain": [
              "[1, 4, 9, 16, 25, 36, 49, 64, 81, 100]"
            ]
          },
          "metadata": {},
          "execution_count": 55
        }
      ]
    },
    {
      "cell_type": "code",
      "source": [
        "def sq(n):\n",
        "  return n**2"
      ],
      "metadata": {
        "id": "mZe_p7Mibl62"
      },
      "execution_count": 57,
      "outputs": []
    },
    {
      "cell_type": "code",
      "source": [
        "list(map(sq,list1))"
      ],
      "metadata": {
        "colab": {
          "base_uri": "https://localhost:8080/"
        },
        "id": "0uu1WJZosMVg",
        "outputId": "d97d3fbf-b243-4d7d-cd29-ac5c2c8e273b"
      },
      "execution_count": 60,
      "outputs": [
        {
          "output_type": "execute_result",
          "data": {
            "text/plain": [
              "[1, 4, 9, 16, 25, 36, 49, 64, 81, 100]"
            ]
          },
          "metadata": {},
          "execution_count": 60
        }
      ]
    },
    {
      "cell_type": "markdown",
      "source": [
        "4. Write a Python function that checks if a given number is prime or not from 1 to 200."
      ],
      "metadata": {
        "id": "RYi2R0kTszVR"
      }
    },
    {
      "cell_type": "code",
      "source": [
        "def is_prime(num):\n",
        "    if num <= 1:\n",
        "        return False\n",
        "    for i in range(2, int(num**0.5) + 1):\n",
        "        if num % i == 0:\n",
        "            return False\n",
        "    return True\n",
        "primes = []\n",
        "for num in range(1, 200):\n",
        "    if is_prime(num):\n",
        "        primes.append(num)\n",
        "print(primes)\n"
      ],
      "metadata": {
        "colab": {
          "base_uri": "https://localhost:8080/"
        },
        "id": "A8LBXVWZs0s6",
        "outputId": "ea250f4a-168d-4c70-d2b1-c9fbe653ac8f"
      },
      "execution_count": 66,
      "outputs": [
        {
          "output_type": "stream",
          "name": "stdout",
          "text": [
            "[2, 3, 5, 7, 11, 13, 17, 19, 23, 29, 31, 37, 41, 43, 47, 53, 59, 61, 67, 71, 73, 79, 83, 89, 97, 101, 103, 107, 109, 113, 127, 131, 137, 139, 149, 151, 157, 163, 167, 173, 179, 181, 191, 193, 197, 199]\n"
          ]
        }
      ]
    },
    {
      "cell_type": "code",
      "source": [
        "is_prime(5)"
      ],
      "metadata": {
        "colab": {
          "base_uri": "https://localhost:8080/"
        },
        "id": "Ed9FMFgSsWWC",
        "outputId": "767e61c9-186d-42be-e6ac-ffcb4fe709ec"
      },
      "execution_count": 67,
      "outputs": [
        {
          "output_type": "execute_result",
          "data": {
            "text/plain": [
              "True"
            ]
          },
          "metadata": {},
          "execution_count": 67
        }
      ]
    },
    {
      "cell_type": "markdown",
      "source": [
        "5. Create an iterator class in Python that generates the Fibonacci sequence up to a specified number of\n",
        "terms."
      ],
      "metadata": {
        "id": "yOnildpq0BlE"
      }
    },
    {
      "cell_type": "code",
      "source": [
        "def fib(n):\n",
        "  a=0\n",
        "  b=1\n",
        "  for i in range(n):\n",
        "    yield a\n",
        "    a,b=a,a+b\n",
        ""
      ],
      "metadata": {
        "id": "h5XSSafay3kT"
      },
      "execution_count": 19,
      "outputs": []
    },
    {
      "cell_type": "code",
      "source": [
        "f=fib(5)"
      ],
      "metadata": {
        "id": "ws-5e27B3ClI"
      },
      "execution_count": 23,
      "outputs": []
    },
    {
      "cell_type": "code",
      "source": [
        "next(1)"
      ],
      "metadata": {
        "colab": {
          "base_uri": "https://localhost:8080/"
        },
        "id": "bIu1yeVf3FwJ",
        "outputId": "b8982891-e11f-4558-c66d-77911fbe59fd"
      },
      "execution_count": 72,
      "outputs": [
        {
          "output_type": "execute_result",
          "data": {
            "text/plain": [
              "0"
            ]
          },
          "metadata": {},
          "execution_count": 72
        }
      ]
    },
    {
      "cell_type": "markdown",
      "source": [
        "6. Write a generator function in Python that yields the powers of 2 up to a given exponent."
      ],
      "metadata": {
        "id": "bBo_EXmw3wyb"
      }
    },
    {
      "cell_type": "code",
      "source": [
        "def powr(n):\n",
        "  for i in range(n):\n",
        "    yield n**2\n",
        "\n",
        "list(powr(5))"
      ],
      "metadata": {
        "colab": {
          "base_uri": "https://localhost:8080/"
        },
        "id": "gXRtKzIo3dtI",
        "outputId": "523835e8-4b99-46ce-f955-46474d31920e"
      },
      "execution_count": 76,
      "outputs": [
        {
          "output_type": "execute_result",
          "data": {
            "text/plain": [
              "[25, 25, 25, 25, 25]"
            ]
          },
          "metadata": {},
          "execution_count": 76
        }
      ]
    },
    {
      "cell_type": "markdown",
      "source": [
        "7. Implement a generator function that reads a file line by line and yields each line as a string.\n"
      ],
      "metadata": {
        "id": "fTxTCLDk8WyP"
      }
    },
    {
      "cell_type": "markdown",
      "source": [
        "8. Use a lambda function in Python to sort a list of tuples based on the second element of each tuple."
      ],
      "metadata": {
        "id": "KiaS5iBd8cIa"
      }
    },
    {
      "cell_type": "code",
      "source": [
        "x=[(2,\"rahul\"),(1,\"dinesh\"),(3,\"kartik\")]\n",
        "\n",
        "sorted(x, key=lambda x: x[1])"
      ],
      "metadata": {
        "colab": {
          "base_uri": "https://localhost:8080/"
        },
        "id": "KBEXuErN4z6P",
        "outputId": "4baa1738-476f-4915-f2af-fec29fb0244a"
      },
      "execution_count": 16,
      "outputs": [
        {
          "output_type": "execute_result",
          "data": {
            "text/plain": [
              "[(1, 'dinesh'), (3, 'kartik'), (2, 'rahul')]"
            ]
          },
          "metadata": {},
          "execution_count": 16
        }
      ]
    },
    {
      "cell_type": "markdown",
      "source": [
        "9. Write a Python program that uses `map()` to convert a list of temperatures from Celsius to Fahrenheit.\n"
      ],
      "metadata": {
        "id": "t0JXhJdWB01j"
      }
    },
    {
      "cell_type": "code",
      "source": [
        "li1=[40,47,50,59]\n",
        "\n",
        "list(map(lambda x: (x*1.8)+32,li1))"
      ],
      "metadata": {
        "colab": {
          "base_uri": "https://localhost:8080/"
        },
        "id": "WLftXPlz-FcT",
        "outputId": "da875632-f9fe-425b-9055-c53ba4facf79"
      },
      "execution_count": 30,
      "outputs": [
        {
          "output_type": "execute_result",
          "data": {
            "text/plain": [
              "[104.0, 116.60000000000001, 122.0, 138.2]"
            ]
          },
          "metadata": {},
          "execution_count": 30
        }
      ]
    },
    {
      "cell_type": "markdown",
      "source": [
        "10. Create a Python program that uses `filter()` to remove all the vowels from a given string."
      ],
      "metadata": {
        "id": "av6suxNpYia3"
      }
    },
    {
      "cell_type": "code",
      "source": [
        "from os import replace\n",
        "strng=\"avinash\"\n",
        "vowels = 'a', 'e', 'i', 'o', 'u', 'A', 'E', 'I', 'O', 'U'\n",
        "list(filter(lambda x: x if vowels in strng else x.replace(x,'')))\n"
      ],
      "metadata": {
        "colab": {
          "base_uri": "https://localhost:8080/",
          "height": 176
        },
        "id": "NS_ylcm4Pi3E",
        "outputId": "d0dbc2e7-329b-4138-b7c5-6ee693c26da2"
      },
      "execution_count": 48,
      "outputs": [
        {
          "output_type": "error",
          "ename": "TypeError",
          "evalue": "filter expected 2 arguments, got 1",
          "traceback": [
            "\u001b[0;31m---------------------------------------------------------------------------\u001b[0m",
            "\u001b[0;31mTypeError\u001b[0m                                 Traceback (most recent call last)",
            "\u001b[0;32m<ipython-input-48-849f10c94b03>\u001b[0m in \u001b[0;36m<cell line: 0>\u001b[0;34m()\u001b[0m\n\u001b[1;32m      2\u001b[0m \u001b[0mstrng\u001b[0m\u001b[0;34m=\u001b[0m\u001b[0;34m\"avinash\"\u001b[0m\u001b[0;34m\u001b[0m\u001b[0;34m\u001b[0m\u001b[0m\n\u001b[1;32m      3\u001b[0m \u001b[0mvowels\u001b[0m \u001b[0;34m=\u001b[0m \u001b[0;34m'a'\u001b[0m\u001b[0;34m,\u001b[0m \u001b[0;34m'e'\u001b[0m\u001b[0;34m,\u001b[0m \u001b[0;34m'i'\u001b[0m\u001b[0;34m,\u001b[0m \u001b[0;34m'o'\u001b[0m\u001b[0;34m,\u001b[0m \u001b[0;34m'u'\u001b[0m\u001b[0;34m,\u001b[0m \u001b[0;34m'A'\u001b[0m\u001b[0;34m,\u001b[0m \u001b[0;34m'E'\u001b[0m\u001b[0;34m,\u001b[0m \u001b[0;34m'I'\u001b[0m\u001b[0;34m,\u001b[0m \u001b[0;34m'O'\u001b[0m\u001b[0;34m,\u001b[0m \u001b[0;34m'U'\u001b[0m\u001b[0;34m\u001b[0m\u001b[0;34m\u001b[0m\u001b[0m\n\u001b[0;32m----> 4\u001b[0;31m \u001b[0mlist\u001b[0m\u001b[0;34m(\u001b[0m\u001b[0mfilter\u001b[0m\u001b[0;34m(\u001b[0m\u001b[0;32mlambda\u001b[0m \u001b[0mx\u001b[0m\u001b[0;34m:\u001b[0m \u001b[0mx\u001b[0m \u001b[0;32mif\u001b[0m \u001b[0mvowels\u001b[0m \u001b[0;32min\u001b[0m \u001b[0mstrng\u001b[0m \u001b[0;32melse\u001b[0m \u001b[0mx\u001b[0m\u001b[0;34m.\u001b[0m\u001b[0mreplace\u001b[0m\u001b[0;34m(\u001b[0m\u001b[0mx\u001b[0m\u001b[0;34m,\u001b[0m\u001b[0;34m''\u001b[0m\u001b[0;34m)\u001b[0m\u001b[0;34m)\u001b[0m\u001b[0;34m)\u001b[0m\u001b[0;34m\u001b[0m\u001b[0;34m\u001b[0m\u001b[0m\n\u001b[0m",
            "\u001b[0;31mTypeError\u001b[0m: filter expected 2 arguments, got 1"
          ]
        }
      ]
    },
    {
      "cell_type": "code",
      "source": [],
      "metadata": {
        "id": "5nkxAhHpt7YT"
      },
      "execution_count": null,
      "outputs": []
    }
  ]
}