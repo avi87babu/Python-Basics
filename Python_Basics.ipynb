{
  "nbformat": 4,
  "nbformat_minor": 0,
  "metadata": {
    "colab": {
      "provenance": []
    },
    "kernelspec": {
      "name": "python3",
      "display_name": "Python 3"
    },
    "language_info": {
      "name": "python"
    }
  },
  "cells": [
    {
      "cell_type": "markdown",
      "source": [
        "# ***Python Basics Questions***\n",
        "\n",
        "---\n",
        "\n",
        "\n"
      ],
      "metadata": {
        "id": "5vFAb7CigIIU"
      }
    },
    {
      "cell_type": "markdown",
      "source": [
        "\n",
        "\n",
        "**1.   What is Python, and why is it popular**\n",
        "  \n",
        "  *   Python, a programming language that has taken the tech world by storm. Python is widely used across various fields due to its versatility and a rich collection of libraries.\n",
        "       Whether you're working on web development, data analysis, image processing, database, or automation.\n",
        "\n",
        "**2. What is an interpreter in Python?**\n",
        "* Python interpreter is program that reads and executes python code line by line.       \n",
        "\n",
        "**3. What are pre-defined keywords in Python?**\n",
        "  * Keywords are pre-define words hold as special meaning and have specific purpose in python.\n",
        "\n",
        "**4. Can keywords be used as variable names?**\n",
        "* Variable should not be keywords.\n",
        "\n",
        "**5. What is mutability in Python?**\n",
        "* Objects/container whose state or value can be changed after they are created are called as mutable objects of container, list is a type of mutable object/support item assignment.\n",
        "\n",
        "**6. Why are lists mutable, but tuples are immutable?**\n",
        "* Objects/container whose state or value can not be changed after they are created are called as immutable objects of container, string is a type of immutable object/doesn't support item assignment.\n",
        "\n",
        "**7. What is the difference between “==” and “is” operators in Python?**\n",
        "* “==” this is a comparison operator to compare two value and “is” this is a identitity operator to compare the location of two object/variable\n",
        "\n",
        "**8. What are logical operators in Python?**\n",
        "* Logical operators are combine multiple conditions to evaluate them a single boolen expression:\n",
        "  - #and: returns true if both conditions are true other wise it return false\n",
        "  - #or: returns true if one conditions is true.\n",
        "\n",
        "**9. What is type casting in Python?**\n",
        "* Type casting/type conversion is the process of changingthe data type of value/object because while excuting/computation using operaters, there can be mismatch between the data type.\n",
        "\n",
        "**10. What is the difference between implicit and explicit type casting?**\n",
        "* Implicit typecasting:\n",
        "  - Python understand the data type.\n",
        "* Explicit type casting:\n",
        "  - Convert data type using inbult functions lik: str,int, float,bool.  \n",
        "\n",
        "**11. What is the purpose of conditional statements in Python?**\n",
        "* Conditional statements is to help code decisions based on some pre-conditions.\n",
        "  - #if\n",
        "  - #if else\n",
        "  - #elif\n",
        "\n",
        "**12. How does the elif statement work?**\n",
        "* Multiple conditions using the `elif` statement. if one condition is not ture then checking another condintion.\n",
        "\n",
        "**13. What is the difference between for and while loops?**\n",
        "* difference between for and while loops:\n",
        "  - A while loop repeatedly a block of code until a condition is met.\n",
        "  - A for loop iterate over a sequence of elements lik **string or List**.\n",
        "\n",
        "**14. Describe a scenario where a while loop is more suitable than a for loop.**\n",
        "* A 'for' loop, which is generally used when the number of iterations is known beforehand, a 'while' loop is ideal for situations where the number of iterations is not predetermined and depends on some dynamic condition."
      ],
      "metadata": {
        "id": "YoUkru0IgNvD"
      }
    },
    {
      "cell_type": "markdown",
      "source": [
        "# ***Practical Questions***\n",
        "\n",
        "---\n",
        "\n"
      ],
      "metadata": {
        "id": "kOSVn2eC8NDO"
      }
    },
    {
      "cell_type": "markdown",
      "source": [
        "**1. Write a Python program to print \"Hello World!\"**"
      ],
      "metadata": {
        "id": "Vr0ZLjBYsNZA"
      }
    },
    {
      "cell_type": "code",
      "source": [
        "print(\"Hello World!\")"
      ],
      "metadata": {
        "colab": {
          "base_uri": "https://localhost:8080/"
        },
        "id": "DcHCHYdrsj0X",
        "outputId": "a534b51b-9a80-4114-8763-f5897894810a"
      },
      "execution_count": 1,
      "outputs": [
        {
          "output_type": "stream",
          "name": "stdout",
          "text": [
            "Hello World!\n"
          ]
        }
      ]
    },
    {
      "cell_type": "markdown",
      "source": [
        "**2. Write a Python program that displays your name and age.**"
      ],
      "metadata": {
        "id": "6ynj4WQPsoBu"
      }
    },
    {
      "cell_type": "code",
      "source": [
        "Name='Avinash'\n",
        "Age='37'\n",
        "print(\"My Name is \" +Name)\n",
        "print(\"My Age is \" +Age)"
      ],
      "metadata": {
        "colab": {
          "base_uri": "https://localhost:8080/"
        },
        "id": "lsUkOui0sxFa",
        "outputId": "a86cfc00-bafb-44c9-8719-76cf49437807"
      },
      "execution_count": 2,
      "outputs": [
        {
          "output_type": "stream",
          "name": "stdout",
          "text": [
            "My Name is Avinash\n",
            "My Age is 37\n"
          ]
        }
      ]
    },
    {
      "cell_type": "markdown",
      "source": [
        "**3. Write code to print all the pre-defined keywords in Python using the keyword library.**"
      ],
      "metadata": {
        "id": "uNNBQPeps8Bi"
      }
    },
    {
      "cell_type": "code",
      "source": [
        "help('keywords')"
      ],
      "metadata": {
        "colab": {
          "base_uri": "https://localhost:8080/"
        },
        "id": "_5x-ehX6s_WA",
        "outputId": "59d28c32-b7ae-47ff-a73a-1acb53559ab4"
      },
      "execution_count": 3,
      "outputs": [
        {
          "output_type": "stream",
          "name": "stdout",
          "text": [
            "\n",
            "Here is a list of the Python keywords.  Enter any keyword to get more help.\n",
            "\n",
            "False               class               from                or\n",
            "None                continue            global              pass\n",
            "True                def                 if                  raise\n",
            "and                 del                 import              return\n",
            "as                  elif                in                  try\n",
            "assert              else                is                  while\n",
            "async               except              lambda              with\n",
            "await               finally             nonlocal            yield\n",
            "break               for                 not                 \n",
            "\n"
          ]
        }
      ]
    },
    {
      "cell_type": "markdown",
      "source": [
        "**4. Write a program that checks if a given word is a Python keyword.**"
      ],
      "metadata": {
        "id": "_eH8zKBotFKS"
      }
    },
    {
      "cell_type": "code",
      "source": [
        "if 5 > 3:\n",
        "    print(\"5 is greater the 3\")"
      ],
      "metadata": {
        "colab": {
          "base_uri": "https://localhost:8080/"
        },
        "id": "xQaj73FvtiaA",
        "outputId": "2270cf33-cfa2-4987-cbf8-6fb41c360b5f"
      },
      "execution_count": 10,
      "outputs": [
        {
          "output_type": "stream",
          "name": "stdout",
          "text": [
            "5 is greater the 3\n"
          ]
        }
      ]
    },
    {
      "cell_type": "markdown",
      "source": [
        "**5. Create a list and tuple in Python, and demonstrate how attempting to change an element works differently for each.**"
      ],
      "metadata": {
        "id": "BWAfr4Lqu319"
      }
    },
    {
      "cell_type": "code",
      "source": [
        "tuple_list=[\"rahul\",\"deepak\",\"Vikash\",23,25,39,\"Avinash\"]\n",
        "\n",
        "tuple_list[1]=\"Kumar\"\n",
        "tuple_list[2]=\"Gautam\"\n",
        "tuple_list[3]=80\n",
        "tuple_list[4]=\"Chandan\"\n",
        "tuple_list\n"
      ],
      "metadata": {
        "colab": {
          "base_uri": "https://localhost:8080/"
        },
        "id": "mICxLHCovEYh",
        "outputId": "579bb44b-4b95-4585-eead-8f4df967428c"
      },
      "execution_count": 11,
      "outputs": [
        {
          "output_type": "execute_result",
          "data": {
            "text/plain": [
              "['rahul', 'Kumar', 'Gautam', 80, 'Chandan', 39, 'Avinash']"
            ]
          },
          "metadata": {},
          "execution_count": 11
        }
      ]
    },
    {
      "cell_type": "markdown",
      "source": [
        "**6. Write a function to demonstrate the behavior of mutable and immutable arguments.**"
      ],
      "metadata": {
        "id": "hVkB6o6YvPBv"
      }
    },
    {
      "cell_type": "code",
      "source": [
        "tuple_list[1]=\"Kunal\" #Mutable object can we change after creation\n",
        "b=\"sahil\" #immutable object can not be change after creation\n",
        "tuple_list"
      ],
      "metadata": {
        "colab": {
          "base_uri": "https://localhost:8080/"
        },
        "id": "2TRiDibEvgM4",
        "outputId": "59bc73b0-db6c-4cdc-d729-7a233695a62d"
      },
      "execution_count": 12,
      "outputs": [
        {
          "output_type": "execute_result",
          "data": {
            "text/plain": [
              "['rahul', 'Kunal', 'Gautam', 80, 'Chandan', 39, 'Avinash']"
            ]
          },
          "metadata": {},
          "execution_count": 12
        }
      ]
    },
    {
      "cell_type": "code",
      "source": [
        "b[0]=\"D\"\n",
        "b"
      ],
      "metadata": {
        "colab": {
          "base_uri": "https://localhost:8080/",
          "height": 158
        },
        "id": "R3ipQ7F7vkkN",
        "outputId": "034fad46-19c3-4472-857e-9ae4015f3109"
      },
      "execution_count": 13,
      "outputs": [
        {
          "output_type": "error",
          "ename": "TypeError",
          "evalue": "'str' object does not support item assignment",
          "traceback": [
            "\u001b[0;31m---------------------------------------------------------------------------\u001b[0m",
            "\u001b[0;31mTypeError\u001b[0m                                 Traceback (most recent call last)",
            "\u001b[0;32m<ipython-input-13-01e11fbf4889>\u001b[0m in \u001b[0;36m<cell line: 1>\u001b[0;34m()\u001b[0m\n\u001b[0;32m----> 1\u001b[0;31m \u001b[0mb\u001b[0m\u001b[0;34m[\u001b[0m\u001b[0;36m0\u001b[0m\u001b[0;34m]\u001b[0m\u001b[0;34m=\u001b[0m\u001b[0;34m\"D\"\u001b[0m\u001b[0;34m\u001b[0m\u001b[0;34m\u001b[0m\u001b[0m\n\u001b[0m\u001b[1;32m      2\u001b[0m \u001b[0mb\u001b[0m\u001b[0;34m\u001b[0m\u001b[0;34m\u001b[0m\u001b[0m\n",
            "\u001b[0;31mTypeError\u001b[0m: 'str' object does not support item assignment"
          ]
        }
      ]
    },
    {
      "cell_type": "markdown",
      "source": [
        "**8. Write a program to demonstrate the use of logical operators.**"
      ],
      "metadata": {
        "id": "HxzDvQY5vv4E"
      }
    },
    {
      "cell_type": "code",
      "source": [
        "a=5\n",
        "b=3\n",
        "if(a>3 and b<5):\n",
        "  print(\"condtion is true\")\n",
        "elif (a<4 or b>2):\n",
        "  print(\"condition is ture\")"
      ],
      "metadata": {
        "colab": {
          "base_uri": "https://localhost:8080/"
        },
        "id": "oSnHkn9OvoVh",
        "outputId": "e34e0196-04b2-41c6-c78d-594679f1f31a"
      },
      "execution_count": 15,
      "outputs": [
        {
          "output_type": "stream",
          "name": "stdout",
          "text": [
            "condtion is true\n"
          ]
        }
      ]
    },
    {
      "cell_type": "markdown",
      "source": [
        "**9. Write a Python program to convert user input from string to integer, float, and boolean types.**"
      ],
      "metadata": {
        "id": "oV5flr9wxHtH"
      }
    },
    {
      "cell_type": "code",
      "source": [
        "value=input(\"Enter the value=\")"
      ],
      "metadata": {
        "colab": {
          "base_uri": "https://localhost:8080/"
        },
        "id": "jMdoqn8rwiZ0",
        "outputId": "257ad61d-e69f-40ca-ddf2-ce1736eef7a6"
      },
      "execution_count": 17,
      "outputs": [
        {
          "name": "stdout",
          "output_type": "stream",
          "text": [
            "Enter the value=25\n"
          ]
        }
      ]
    },
    {
      "cell_type": "code",
      "source": [
        "type(value)"
      ],
      "metadata": {
        "colab": {
          "base_uri": "https://localhost:8080/"
        },
        "id": "Tx78o0EoxVSS",
        "outputId": "559c3fc7-9c54-4148-8176-3ec8df35044f"
      },
      "execution_count": 18,
      "outputs": [
        {
          "output_type": "execute_result",
          "data": {
            "text/plain": [
              "str"
            ]
          },
          "metadata": {},
          "execution_count": 18
        }
      ]
    },
    {
      "cell_type": "code",
      "source": [
        "value=int(input(\"Enter the value=\"))"
      ],
      "metadata": {
        "colab": {
          "base_uri": "https://localhost:8080/"
        },
        "id": "1SyJdTcPxt4n",
        "outputId": "b4697d66-25f1-465a-f358-7ddb3a27d44a"
      },
      "execution_count": 19,
      "outputs": [
        {
          "name": "stdout",
          "output_type": "stream",
          "text": [
            "Enter the value=25\n"
          ]
        }
      ]
    },
    {
      "cell_type": "code",
      "source": [
        "type(value)"
      ],
      "metadata": {
        "colab": {
          "base_uri": "https://localhost:8080/"
        },
        "id": "5-Qaj4egx33I",
        "outputId": "9c95baea-f400-430e-9b2d-6f44ae485915"
      },
      "execution_count": 20,
      "outputs": [
        {
          "output_type": "execute_result",
          "data": {
            "text/plain": [
              "int"
            ]
          },
          "metadata": {},
          "execution_count": 20
        }
      ]
    },
    {
      "cell_type": "code",
      "source": [
        "value=float(input(\"Enter the value=\"))"
      ],
      "metadata": {
        "colab": {
          "base_uri": "https://localhost:8080/"
        },
        "id": "fJoy_t-Kx8XE",
        "outputId": "aefd9ea9-8a64-4473-9b3e-62c8f669e01f"
      },
      "execution_count": 21,
      "outputs": [
        {
          "name": "stdout",
          "output_type": "stream",
          "text": [
            "Enter the value=54\n"
          ]
        }
      ]
    },
    {
      "cell_type": "code",
      "source": [
        "type(value)"
      ],
      "metadata": {
        "colab": {
          "base_uri": "https://localhost:8080/"
        },
        "id": "FEXE0-skyDqF",
        "outputId": "0320b252-a2be-415b-ee2c-d3ffa6f0b53a"
      },
      "execution_count": 22,
      "outputs": [
        {
          "output_type": "execute_result",
          "data": {
            "text/plain": [
              "float"
            ]
          },
          "metadata": {},
          "execution_count": 22
        }
      ]
    },
    {
      "cell_type": "code",
      "source": [
        "value=bool(input(\"Enter the value=\"))"
      ],
      "metadata": {
        "colab": {
          "base_uri": "https://localhost:8080/"
        },
        "id": "sBdnRm8pyHn6",
        "outputId": "b98c06f2-75e8-4479-a4f2-b421a753bebc"
      },
      "execution_count": 23,
      "outputs": [
        {
          "name": "stdout",
          "output_type": "stream",
          "text": [
            "Enter the value=true\n"
          ]
        }
      ]
    },
    {
      "cell_type": "code",
      "source": [
        "type(value)"
      ],
      "metadata": {
        "colab": {
          "base_uri": "https://localhost:8080/"
        },
        "id": "W36auWJZyPXH",
        "outputId": "1b5b4777-3819-4b68-8e60-955ccd3c0261"
      },
      "execution_count": 24,
      "outputs": [
        {
          "output_type": "execute_result",
          "data": {
            "text/plain": [
              "bool"
            ]
          },
          "metadata": {},
          "execution_count": 24
        }
      ]
    },
    {
      "cell_type": "markdown",
      "source": [
        "**10. Write code to demonstrate type casting with list elements.**"
      ],
      "metadata": {
        "id": "ksH1aEckynWO"
      }
    },
    {
      "cell_type": "code",
      "source": [
        "list_cast=['1','2','3','4','5']\n",
        "for i in list_cast:\n",
        "  print(int(i))"
      ],
      "metadata": {
        "colab": {
          "base_uri": "https://localhost:8080/"
        },
        "id": "XPgfGf-Mym0F",
        "outputId": "2b9b9757-4d71-4925-ace1-0d9a11cfa06b"
      },
      "execution_count": 29,
      "outputs": [
        {
          "output_type": "stream",
          "name": "stdout",
          "text": [
            "1\n",
            "2\n",
            "3\n",
            "4\n",
            "5\n"
          ]
        }
      ]
    },
    {
      "cell_type": "markdown",
      "source": [
        "**11. Write a program that checks if a number is positive, negative, or zero.**"
      ],
      "metadata": {
        "id": "nWZ3OFEF164m"
      }
    },
    {
      "cell_type": "code",
      "source": [
        "a=int(input(\"enter the number=\"))\n",
        "if(a>0):\n",
        "    print(\"Number is positive\")\n",
        "elif(a<0):\n",
        "    print(\"Number is Negatie\")\n",
        "else:\n",
        "    print(\"Number is Zero\")"
      ],
      "metadata": {
        "colab": {
          "base_uri": "https://localhost:8080/"
        },
        "id": "m1WASILR2JD7",
        "outputId": "c7d9c9f9-9ef0-4b28-9126-e77c4ec87422"
      },
      "execution_count": 31,
      "outputs": [
        {
          "output_type": "stream",
          "name": "stdout",
          "text": [
            "enter the number=5\n",
            "Number is positive\n"
          ]
        }
      ]
    },
    {
      "cell_type": "markdown",
      "source": [
        "**12. Write a for loop to print numbers from 1 to 10.**"
      ],
      "metadata": {
        "id": "UABuaPj22bDY"
      }
    },
    {
      "cell_type": "code",
      "source": [
        "for i in range(10):\n",
        "  print(i)"
      ],
      "metadata": {
        "colab": {
          "base_uri": "https://localhost:8080/"
        },
        "id": "Zm4dqMW-2g-N",
        "outputId": "20063c73-7c76-4921-ecac-389711dbf287"
      },
      "execution_count": 32,
      "outputs": [
        {
          "output_type": "stream",
          "name": "stdout",
          "text": [
            "0\n",
            "1\n",
            "2\n",
            "3\n",
            "4\n",
            "5\n",
            "6\n",
            "7\n",
            "8\n",
            "9\n"
          ]
        }
      ]
    },
    {
      "cell_type": "markdown",
      "source": [
        "**13. Write a Python program to find the sum of all even numbers between 1 and 50.**"
      ],
      "metadata": {
        "id": "suhxQrHR3Bkp"
      }
    },
    {
      "cell_type": "code",
      "source": [
        "for i in range(50):\n",
        "  if i%2!=0:\n",
        "    continue\n",
        "\n",
        "  print(i)\n"
      ],
      "metadata": {
        "colab": {
          "base_uri": "https://localhost:8080/"
        },
        "id": "_rWJEzcX3IVV",
        "outputId": "8ad64894-63b2-4edc-a202-377a91075ff2"
      },
      "execution_count": 42,
      "outputs": [
        {
          "output_type": "stream",
          "name": "stdout",
          "text": [
            "0\n",
            "2\n",
            "4\n",
            "6\n",
            "8\n",
            "10\n",
            "12\n",
            "14\n",
            "16\n",
            "18\n",
            "20\n",
            "22\n",
            "24\n",
            "26\n",
            "28\n",
            "30\n",
            "32\n",
            "34\n",
            "36\n",
            "38\n",
            "40\n",
            "42\n",
            "44\n",
            "46\n",
            "48\n"
          ]
        }
      ]
    },
    {
      "cell_type": "markdown",
      "source": [
        "**14. Write a program to reverse a string using a while loop.**"
      ],
      "metadata": {
        "id": "WOYR2eDN5XE_"
      }
    },
    {
      "cell_type": "code",
      "source": [
        "a=\"Avinash\"\n",
        "i=len(a)\n",
        "while i in range(len(a))>0:\n",
        "  print(a[i])\n",
        "  i=i-1"
      ],
      "metadata": {
        "id": "4jtIlPS463n_"
      },
      "execution_count": 59,
      "outputs": []
    },
    {
      "cell_type": "markdown",
      "source": [
        "**15. Write a Python program to calculate the factorial of a number provided by the user using a while loop.**"
      ],
      "metadata": {
        "id": "oVQw7C7k92ES"
      }
    },
    {
      "cell_type": "code",
      "source": [
        "num=int(input(\"\"))\n",
        "fnum=1\n",
        "for i in range(1,num+1):\n",
        "  fnum*=i\n",
        "print(f\"factorial of {num} is {fnum}\")\n"
      ],
      "metadata": {
        "colab": {
          "base_uri": "https://localhost:8080/"
        },
        "id": "rN8CS8GA8UvI",
        "outputId": "829ad6cd-7fcf-4e2a-b528-b568666f246f"
      },
      "execution_count": 64,
      "outputs": [
        {
          "output_type": "stream",
          "name": "stdout",
          "text": [
            "3\n",
            "factorial of 3 is 6\n"
          ]
        }
      ]
    }
  ]
}